{
 "cells": [
  {
   "cell_type": "markdown",
   "metadata": {},
   "source": [
    "# Prediction Analysis for WSL\n",
    "\n",
    "Lukas Graz  \n",
    "February 13, 2025"
   ],
   "id": "b39dfb86-c124-435b-9e9f-034f2bc2ac3c"
  },
  {
   "cell_type": "code",
   "execution_count": null,
   "metadata": {},
   "outputs": [
    {
     "output_type": "stream",
     "name": "stdout",
     "text": [
      "Number of matches per filter criteria (not disjoint)\n",
      "  Headphone  PRS_all_NA    Distance Activity_NA    Duration  HMNoise_NA \n",
      "        303         226         221         102          96          96 \n",
      "JourneyTime \n",
      "         20 \n",
      "Keep  1494 of 2206 observations"
     ]
    },
    {
     "output_type": "stream",
     "name": "stderr",
     "text": [
      "Imputing PRS_orig_vars"
     ]
    }
   ],
   "source": [
    "#| code-fold: false\n",
    "source(\"R/data_prep.R\")"
   ],
   "id": "3b4164a5-7af2-43ba-996b-d5c6180d9499"
  },
  {
   "cell_type": "markdown",
   "metadata": {},
   "source": [
    "## Setup"
   ],
   "id": "279e245c-843c-42b6-b55f-66063cab214e"
  },
  {
   "cell_type": "code",
   "execution_count": null,
   "metadata": {},
   "outputs": [],
   "source": [
    "#| code-fold: true\n",
    "#| code-summary: \"Benchmark helper function\"\n",
    "library(mlr3verse, quietly = TRUE)\n",
    "\n",
    "mse <- msrs(c(\"regr.mse\"))\n",
    "\n",
    "if (!interactive())\n",
    "  lgr::get_logger(\"mlr3\")$set_threshold(\"warn\")\n",
    "\n",
    "get_benchi_table <- function(tasks, nfolds = 5) {\n",
    "  set.seed(123)\n",
    "  learners <- lrns(c(\"regr.featureless\", \"regr.lm\", \"regr.xgboost\", \"regr.ranger\"))\n",
    "  learners$regr.xgboost$param_set$set_values(\n",
    "    eta = 0.03, \n",
    "    nrounds = 300, \n",
    "    max_depth = 2\n",
    "  )\n",
    "\n",
    "  benchi <- xfun::cache_rds({\n",
    "    benchmark(benchmark_grid(\n",
    "      tasks, \n",
    "      learners, \n",
    "      rsmp(\"cv\", folds = nfolds)\n",
    "    ))\n",
    "  }, \n",
    "  file = \"benchmark.rds\", \n",
    "  dir = \"cache/\",\n",
    "  hash = list(tasks, nfolds)\n",
    "  )\n",
    "  \n",
    "  res <- tidyr::pivot_wider(benchi$aggregate(mse), \n",
    "    id_cols = task_id,\n",
    "    names_from = learner_id,\n",
    "    values_from = regr.mse\n",
    "  ) |> as.data.frame()\n",
    "  \n",
    "  rownames(res) <- res$task_id\n",
    "  res <- res[, -1]\n",
    "  colnames(res) <- gsub(\"regr.\", \"\", colnames(res))\n",
    "  stopifnot(any(colnames(res) == \"featureless\"))\n",
    "  res <- 1 - res / res$featureless\n",
    "  res[, -1, drop = FALSE] |> round(3)\n",
    "}"
   ],
   "id": "297ab2d0-6c3c-423d-a0bf-2f940f9868c6"
  },
  {
   "cell_type": "markdown",
   "metadata": {},
   "source": [
    "Testing prediction quality of GIS_vars -\\> Mediators -\\> PRS_vars using\n",
    "\n",
    "-   Linear models\n",
    "-   Random forests (default parameters)\n",
    "-   XGBoost (with parameter tuning)\n",
    "-   FASSO (not shown since inferior)\n",
    "\n",
    "**GIS Variables:**"
   ],
   "id": "d9ef3e6f-b695-4f32-835a-b7389b40380b"
  },
  {
   "cell_type": "code",
   "execution_count": null,
   "metadata": {},
   "outputs": [
    {
     "output_type": "stream",
     "name": "stdout",
     "text": [
      " [1] \"LCARTIF_sqrt\"   \"LCFOREST_sqrt\"  \"HETER\"          \"OVDIST_sqrt\"   \n",
      " [5] \"VIS5K_sqrt\"     \"RL_NDVI\"        \"RL_NOISE\"       \"DISTKM_sqrt\"   \n",
      " [9] \"JNYTIME_sqrt\"   \"STRIMP123_sqrt\" \"STRIMP999_sqrt\""
     ]
    }
   ],
   "source": [
    "#| echo: false\n",
    "GIS_vars"
   ],
   "id": "049d5d6f-aeb4-474a-a137-0769d0563836"
  },
  {
   "cell_type": "markdown",
   "metadata": {},
   "source": [
    "**Mediators:**"
   ],
   "id": "ecaa2603-b2d2-434e-9f80-8439be5fcd0e"
  },
  {
   "cell_type": "code",
   "execution_count": null,
   "metadata": {},
   "outputs": [
    {
     "output_type": "stream",
     "name": "stdout",
     "text": [
      "[1] \"FEELNAT\"  \"LNOISE\"   \"LOC_SENS\" \"LOC_SOUN\" \"LOC_SCEN\" \"LOC_VISE\" \"LOC_VEGE\"\n",
      "[8] \"LOC_FAUN\""
     ]
    }
   ],
   "source": [
    "#| echo: false\n",
    "Mediator_vars"
   ],
   "id": "4807ba18-92cd-4d73-bae2-d4b12153efc0"
  },
  {
   "cell_type": "markdown",
   "metadata": {},
   "source": [
    "### PRS ~ GIS"
   ],
   "id": "35ec42a3-0d04-46dc-8af6-5d993fa73b52"
  },
  {
   "cell_type": "code",
   "execution_count": null,
   "metadata": {},
   "outputs": [
    {
     "output_type": "stream",
     "name": "stdout",
     "text": [
      "         lm xgboost ranger\n",
      "MEAN -0.001  -0.006 -0.035\n",
      "FA   -0.002   0.012  0.002\n",
      "BA   -0.006  -0.010 -0.022\n",
      "EC    0.003  -0.027 -0.037\n",
      "ES    0.047   0.041  0.025"
     ]
    }
   ],
   "source": [
    "#| code-fold: true\n",
    "tasks_GIS <- lapply(PRS_vars, \\(y) \n",
    "  as_task_regr(\n",
    "    subset(Dmlr, select = c(y, GIS_vars)),\n",
    "    target = y,\n",
    "    id = y\n",
    "  ))\n",
    "get_benchi_table(tasks_GIS) "
   ],
   "id": "97ef06db-2022-4a37-82b8-4029a58109fb"
  },
  {
   "cell_type": "markdown",
   "metadata": {},
   "source": [
    "GIS variables alone show poor predictive performance.\n",
    "\n",
    "### PRS ~ GIS + Mediators"
   ],
   "id": "1b8ad8d7-aa69-462f-a859-2ba999fc2bad"
  },
  {
   "cell_type": "code",
   "execution_count": null,
   "metadata": {},
   "outputs": [
    {
     "output_type": "stream",
     "name": "stdout",
     "text": [
      "        lm xgboost ranger\n",
      "MEAN 0.227   0.243  0.229\n",
      "FA   0.235   0.259  0.251\n",
      "BA   0.123   0.136  0.134\n",
      "EC   0.045   0.017  0.023\n",
      "ES   0.153   0.169  0.158"
     ]
    }
   ],
   "source": [
    "#| code-fold: true\n",
    "tasks_GIS_MED <- lapply(PRS_vars, \\(y) \n",
    "  as_task_regr(\n",
    "    subset(Dmlr, select = c(y, Mediator_vars, GIS_vars)),\n",
    "    target = y,\n",
    "    id = y\n",
    "  ))\n",
    "get_benchi_table(tasks_GIS_MED) "
   ],
   "id": "3e802be0-cece-4bf0-8dae-e9aee3af434d"
  },
  {
   "cell_type": "markdown",
   "metadata": {},
   "source": [
    "### PRS ~ Mediators"
   ],
   "id": "7b916c53-a4e6-44bd-b567-8a3b74cf82df"
  },
  {
   "cell_type": "code",
   "execution_count": null,
   "metadata": {},
   "outputs": [
    {
     "output_type": "stream",
     "name": "stdout",
     "text": [
      "        lm xgboost ranger\n",
      "MEAN 0.226   0.240  0.197\n",
      "FA   0.226   0.253  0.228\n",
      "BA   0.135   0.150  0.109\n",
      "EC   0.036   0.023 -0.018\n",
      "ES   0.133   0.138  0.080"
     ]
    }
   ],
   "source": [
    "#| code-fold: true\n",
    "tasks_MED <- lapply(PRS_vars, \\(y) \n",
    "  as_task_regr(\n",
    "    subset(Dmlr, select = c(y, Mediator_vars)),\n",
    "    target = y,\n",
    "    id = y\n",
    "  ))\n",
    "get_benchi_table(tasks_MED) "
   ],
   "id": "578f3b9c-56b3-4562-b43b-4fdd439d1d46"
  },
  {
   "cell_type": "markdown",
   "metadata": {},
   "source": [
    "### Mediators ~ GIS"
   ],
   "id": "7c3c964a-3279-4847-8d44-b033330997cc"
  },
  {
   "cell_type": "code",
   "execution_count": null,
   "metadata": {},
   "outputs": [
    {
     "output_type": "stream",
     "name": "stdout",
     "text": [
      "            lm xgboost ranger\n",
      "FEELNAT  0.127   0.138  0.114\n",
      "LNOISE   0.096   0.070  0.080\n",
      "LOC_SENS 0.020  -0.004 -0.026\n",
      "LOC_SOUN 0.041   0.007 -0.002\n",
      "LOC_SCEN 0.039   0.051  0.022\n",
      "LOC_VISE 0.008  -0.029 -0.043\n",
      "LOC_VEGE 0.052   0.031  0.035\n",
      "LOC_FAUN 0.057   0.063  0.047"
     ]
    }
   ],
   "source": [
    "#| code-fold: true\n",
    "tasks_MED_by_GIS <- lapply(Mediator_vars, \\(y) \n",
    "  as_task_regr(\n",
    "    subset(Dmlr, select = c(y, GIS_vars)),\n",
    "    target = y,\n",
    "    id = y\n",
    "  ))\n",
    "get_benchi_table(tasks_MED_by_GIS)"
   ],
   "id": "f882a522-db76-4f0a-869c-d28b3a2ac6e1"
  },
  {
   "cell_type": "markdown",
   "metadata": {},
   "source": [
    "### Legacy Code"
   ],
   "id": "b9789105-5f31-47ac-8f51-fd4ad770edb5"
  },
  {
   "cell_type": "code",
   "execution_count": null,
   "metadata": {},
   "outputs": [],
   "source": [
    "#| code-summary: \"XGBoost - Parameter Tuning\"\n",
    "#| code-fold: true\n",
    "#| eval: false\n",
    "\n",
    "# Get parameter estimates for XGBoost\n",
    "t <- as_task_regr(\n",
    "  subset(Dmlr, select = c(\"FEELNAT\", GIS_vars)),\n",
    "  target = \"FEELNAT\"\n",
    ")\n",
    "\n",
    "l <- lrn(\"regr.xgboost\",\n",
    "  nrounds = 500  # More iterations due to lower learning rate\n",
    ")\n",
    "\n",
    "# Create search space\n",
    "ps <- ps(\n",
    "  max_depth = p_int(2, 3),\n",
    "  eta = p_dbl(0.001, 0.3, tags = \"logscale\")\n",
    ")\n",
    "\n",
    "# Setup tuning\n",
    "instance <- ti(\n",
    "  task = t,\n",
    "  learner = l,\n",
    "  resampling = rsmp(\"cv\", folds = 3),\n",
    "  measure = msr(\"regr.mse\"),\n",
    "  terminator = trm(\"none\"),\n",
    "  search_space = ps\n",
    ")\n",
    "\n",
    "# Grid search\n",
    "tuner <- mlr3tuning::tnr(\"grid_search\")\n",
    "tuner$optimize(instance)\n",
    "instance$result"
   ],
   "id": "7645d777-d44f-4669-a357-711c1dfb3017"
  },
  {
   "cell_type": "code",
   "execution_count": null,
   "metadata": {},
   "outputs": [],
   "source": [
    "#| code-fold: true\n",
    "#| code-summary: \"Superseded setup with mlr3\"\n",
    "#| echo: false\n",
    "#| eval: false\n",
    "#| message: false\n",
    "#| warning: false\n",
    "\n",
    "library(randomForest)\n",
    "\n",
    "fit <- lm(as.formula(paste0(\n",
    "    \"cbind(\", paste(PRS_vars, collapse = \", \"), \")\",\n",
    "    \" ~ \",\n",
    "    paste(Mediator_vars, collapse = \" + \")\n",
    "  )), \n",
    "  D)\n",
    "coef(fit) |> round(2)\n",
    "\n",
    "rsq.lm <- sapply(summary(fit), \\(x) x$r.sq)\n",
    "rsq.rf <- sapply(PRS_vars, \\(x) {\n",
    "  rf <- randomForest(as.formula(paste0(\n",
    "    x, \" ~ \", paste(Mediator_vars, collapse = \" + \")\n",
    "  )), \n",
    "  D, na.action = na.omit\n",
    "  ) \n",
    "  rf$rsq[500]\n",
    "})\n",
    "\n",
    "cbind(lm = rsq.lm, rf = rsq.rf) |> round(2)"
   ],
   "id": "2e445728-bc9e-4fe6-85d7-a5548dea1385"
  },
  {
   "cell_type": "code",
   "execution_count": null,
   "metadata": {},
   "outputs": [],
   "source": [
    "#| code-fold: true\n",
    "#| code-summary: \"First basic setup with mlr3\"\n",
    "#| echo: false\n",
    "#| message: false\n",
    "#| warning: false\n",
    "#| eval: false\n",
    "\n",
    "autoplot(mytsk1, type = \"pairs\")\n",
    "mytsk1 <- as_task_regr(\n",
    "  subset(Dmlr, select = c(\"FA\", Mediator_vars, GIS_vars)),\n",
    "  feature = c(Mediator_vars, GIS_vars),\n",
    "  target = \"FA\",\n",
    "  id = \"bla\"\n",
    ")\n",
    "\n",
    "lrn_xgb <- lrn(\"regr.xgboost\")\n",
    "lrn_avg <- lrn(\"regr.featureless\")\n",
    "splits <- partition(mytsk1)\n",
    "lrn_xgb$train(mytsk1, splits$train)$predict(mytsk1, splits$test)$score(mse)\n",
    "lrn_avg$train(mytsk1, splits$train)$predict(mytsk1, splits$test)$score(mse)\n",
    "rr <- resample(mytsk1, lrn_xgb, cv3)\n",
    "rr$aggregate(mse)\n",
    "\n",
    "learners <- lrns(c(\"regr.featureless\", \"regr.lm\", \"regr.xgboost\", \"regr.ranger\"))\n",
    "learners$regr.xgboost$param_set$set_values(eta = 0.03, nrounds = 300, max_depth = 2)\n",
    "learners <- c(\"regr.featureless\", \"regr.lm\")"
   ],
   "id": "fba647df-f113-4ee8-b265-72b585fb59f6"
  }
 ],
 "nbformat": 4,
 "nbformat_minor": 5,
 "metadata": {}
}
