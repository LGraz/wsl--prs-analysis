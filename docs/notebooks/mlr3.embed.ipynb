{
 "cells": [
  {
   "cell_type": "markdown",
   "metadata": {},
   "source": [
    "# Prediction Analysis for WSL\n",
    "\n",
    "Lukas Graz  \n",
    "February 13, 2025"
   ],
   "id": "e37f4022-999c-4353-81ab-72c363b47415"
  },
  {
   "cell_type": "code",
   "execution_count": null,
   "metadata": {},
   "outputs": [
    {
     "output_type": "stream",
     "name": "stdout",
     "text": [
      "Number of matches per filter criteria (not disjoint)\n",
      "  Headphone  PRS_all_NA    Distance Activity_NA    Duration  HMNoise_NA \n",
      "        303         226         221         102          96          96 \n",
      "JourneyTime \n",
      "         20 \n",
      "Keep  1494 of 2206 observations"
     ]
    },
    {
     "output_type": "stream",
     "name": "stderr",
     "text": [
      "Imputing PRS_orig_vars"
     ]
    }
   ],
   "source": [
    "#| code-fold: false\n",
    "source(\"R/data_prep.R\")"
   ],
   "id": "c99d94e2-cb99-443d-9b45-4b0d7ce05094"
  },
  {
   "cell_type": "markdown",
   "metadata": {},
   "source": [
    "## Setup"
   ],
   "id": "501b33ba-027a-483a-8127-2b39326eaa56"
  },
  {
   "cell_type": "code",
   "execution_count": null,
   "metadata": {},
   "outputs": [],
   "source": [
    "#| code-fold: true\n",
    "#| code-summary: \"Remove LOC_ variables from Mediators\"\n",
    "Mediator_vars_noLOC <- grep(\"LOC_\", Mediator_vars, invert = TRUE, value = TRUE)"
   ],
   "id": "896efafd-e35a-44ac-8ef2-1960f22ca72d"
  },
  {
   "cell_type": "code",
   "execution_count": null,
   "metadata": {},
   "outputs": [],
   "source": [
    "#| code-fold: true\n",
    "#| code-summary: \"Benchmark helper function\"\n",
    "library(mlr3verse, quietly = TRUE)\n",
    "\n",
    "mse <- msrs(c(\"regr.mse\"))\n",
    "\n",
    "if (!interactive())\n",
    "  lgr::get_logger(\"mlr3\")$set_threshold(\"warn\")\n",
    "\n",
    "get_benchi_table <- function(tasks, nfolds = 5) {\n",
    "  set.seed(123)\n",
    "  learners <- lrns(c(\"regr.featureless\", \"regr.lm\", \"regr.xgboost\", \"regr.ranger\"))\n",
    "  learners$regr.xgboost$param_set$set_values(\n",
    "    eta = 0.03, \n",
    "    nrounds = 300, \n",
    "    max_depth = 2\n",
    "  )\n",
    "\n",
    "  benchi <- xfun::cache_rds({\n",
    "    benchmark(benchmark_grid(\n",
    "      tasks, \n",
    "      learners, \n",
    "      rsmp(\"cv\", folds = nfolds)\n",
    "    ))\n",
    "  }, \n",
    "  file = \"benchmark.rds\", \n",
    "  dir = \"cache/\",\n",
    "  hash = list(tasks, nfolds)\n",
    "  )\n",
    "  \n",
    "  res <- tidyr::pivot_wider(benchi$aggregate(mse), \n",
    "    id_cols = task_id,\n",
    "    names_from = learner_id,\n",
    "    values_from = regr.mse\n",
    "  ) |> as.data.frame()\n",
    "  \n",
    "  rownames(res) <- res$task_id\n",
    "  res <- res[, -1]\n",
    "  colnames(res) <- gsub(\"regr.\", \"\", colnames(res))\n",
    "  stopifnot(any(colnames(res) == \"featureless\"))\n",
    "  res <- 1 - res / res$featureless\n",
    "  res[, -1, drop = FALSE] |> round(3)\n",
    "}"
   ],
   "id": "c7913562-99cd-4d4d-9dff-386ae64d110f"
  },
  {
   "cell_type": "markdown",
   "metadata": {},
   "source": [
    "Testing prediction quality of GIS_vars -\\> Mediators -\\> PRS_vars using\n",
    "\n",
    "-   Linear models\n",
    "-   Random forests (default parameters)\n",
    "-   XGBoost (with parameter tuning)\n",
    "-   FASSO (not shown since inferior)\n",
    "\n",
    "**GIS Variables:**"
   ],
   "id": "9ee6cbe8-9ee8-4a65-af33-4d8b693abc26"
  },
  {
   "cell_type": "code",
   "execution_count": null,
   "metadata": {},
   "outputs": [
    {
     "output_type": "stream",
     "name": "stdout",
     "text": [
      " [1] \"LCARTIF_sqrt\"   \"LCFOREST_sqrt\"  \"HETER\"          \"OVDIST_sqrt\"   \n",
      " [5] \"VIS5K_sqrt\"     \"RL_NDVI\"        \"RL_NOISE\"       \"DISTKM_sqrt\"   \n",
      " [9] \"JNYTIME_sqrt\"   \"STRIMP123_sqrt\" \"STRIMP999_sqrt\""
     ]
    }
   ],
   "source": [
    "#| echo: false\n",
    "GIS_vars"
   ],
   "id": "9c20ef83-3b86-453f-a0a8-bd43608d8b0c"
  },
  {
   "cell_type": "markdown",
   "metadata": {},
   "source": [
    "**Mediators:**"
   ],
   "id": "bb5dfe57-6ce6-4c7b-ac68-f3fbef7f6654"
  },
  {
   "cell_type": "code",
   "execution_count": null,
   "metadata": {},
   "outputs": [
    {
     "output_type": "stream",
     "name": "stdout",
     "text": [
      "[1] \"FEELNAT\"  \"LNOISE\"   \"LOC_SENS\" \"LOC_SOUN\" \"LOC_SCEN\" \"LOC_VISE\" \"LOC_VEGE\"\n",
      "[8] \"LOC_FAUN\""
     ]
    }
   ],
   "source": [
    "#| echo: false\n",
    "Mediator_vars"
   ],
   "id": "bc318d9d-43d2-49c6-84df-ebe505bc726a"
  },
  {
   "cell_type": "markdown",
   "metadata": {},
   "source": [
    "**Mediators (no sensory LOC variables):**"
   ],
   "id": "996e46b0-8b2e-4bb1-8d11-f676b78b5956"
  },
  {
   "cell_type": "code",
   "execution_count": null,
   "metadata": {},
   "outputs": [
    {
     "output_type": "stream",
     "name": "stdout",
     "text": [
      "[1] \"FEELNAT\" \"LNOISE\" "
     ]
    }
   ],
   "source": [
    "#| echo: false\n",
    "Mediator_vars_noLOC"
   ],
   "id": "5b1f458a-4da3-4e43-bf8c-4efefdd17d68"
  },
  {
   "cell_type": "markdown",
   "metadata": {},
   "source": [
    "### PRS ~ GIS"
   ],
   "id": "25f70cbb-e579-4f91-a516-ffbda68750c3"
  },
  {
   "cell_type": "code",
   "execution_count": null,
   "metadata": {},
   "outputs": [
    {
     "output_type": "stream",
     "name": "stdout",
     "text": [
      "         lm xgboost ranger\n",
      "MEAN -0.002  -0.003 -0.031\n",
      "FA   -0.002   0.015  0.000\n",
      "BA   -0.006  -0.009 -0.023\n",
      "EC    0.001  -0.027 -0.036\n",
      "ES    0.048   0.048  0.030"
     ]
    }
   ],
   "source": [
    "#| code-fold: true\n",
    "tasks_GIS <- lapply(PRS_vars, \\(y) \n",
    "  as_task_regr(\n",
    "    subset(Dmlr, select = c(y, GIS_vars)),\n",
    "    target = y,\n",
    "    id = y\n",
    "  ))\n",
    "get_benchi_table(tasks_GIS) "
   ],
   "id": "0554f50a-4691-4e20-b68e-2f4036a3749b"
  },
  {
   "cell_type": "markdown",
   "metadata": {},
   "source": [
    "GIS variables alone show poor predictive performance.\n",
    "\n",
    "### PRS ~ GIS + Mediators"
   ],
   "id": "58bbff2e-e6f8-41aa-844f-e489f595c3ae"
  },
  {
   "cell_type": "code",
   "execution_count": null,
   "metadata": {},
   "outputs": [
    {
     "output_type": "stream",
     "name": "stdout",
     "text": [
      "        lm xgboost ranger\n",
      "MEAN 0.226   0.238  0.223\n",
      "FA   0.236   0.263  0.254\n",
      "BA   0.122   0.133  0.133\n",
      "EC   0.041   0.018  0.021\n",
      "ES   0.151   0.169  0.160"
     ]
    }
   ],
   "source": [
    "#| code-fold: true\n",
    "tasks_GIS_MED <- lapply(PRS_vars, \\(y) \n",
    "  as_task_regr(\n",
    "    subset(Dmlr, select = c(y, Mediator_vars, GIS_vars)),\n",
    "    target = y,\n",
    "    id = y\n",
    "  ))\n",
    "get_benchi_table(tasks_GIS_MED) "
   ],
   "id": "ba27a13f-0937-4c1b-babd-682345406288"
  },
  {
   "cell_type": "markdown",
   "metadata": {},
   "source": [
    "### PRS ~ GIS + Mediators (no sensory LOC variables)"
   ],
   "id": "9f65d3ae-4b74-447c-bf86-db1a6bf24020"
  },
  {
   "cell_type": "code",
   "execution_count": null,
   "metadata": {},
   "outputs": [
    {
     "output_type": "stream",
     "name": "stdout",
     "text": [
      "        lm xgboost ranger\n",
      "MEAN 0.131   0.137  0.139\n",
      "FA   0.133   0.166  0.145\n",
      "BA   0.071   0.064  0.065\n",
      "EC   0.017  -0.014 -0.013\n",
      "ES   0.130   0.145  0.118"
     ]
    }
   ],
   "source": [
    "#| code-fold: true\n",
    "tasks_GIS_MED <- lapply(PRS_vars, \\(y) \n",
    "  as_task_regr(\n",
    "    subset(Dmlr, select = c(y, Mediator_vars_noLOC, GIS_vars)),\n",
    "    target = y,\n",
    "    id = y\n",
    "  ))\n",
    "get_benchi_table(tasks_GIS_MED) "
   ],
   "id": "561d9c3e-1369-432c-8a32-f012f060798c"
  },
  {
   "cell_type": "markdown",
   "metadata": {},
   "source": [
    "### PRS ~ Mediators"
   ],
   "id": "629b7dcf-cbbb-4682-9760-f4bb17589a52"
  },
  {
   "cell_type": "code",
   "execution_count": null,
   "metadata": {},
   "outputs": [
    {
     "output_type": "stream",
     "name": "stdout",
     "text": [
      "        lm xgboost ranger\n",
      "MEAN 0.225   0.237  0.193\n",
      "FA   0.227   0.258  0.233\n",
      "BA   0.134   0.150  0.111\n",
      "EC   0.035   0.021 -0.020\n",
      "ES   0.130   0.133  0.080"
     ]
    }
   ],
   "source": [
    "#| code-fold: true\n",
    "tasks_MED <- lapply(PRS_vars, \\(y) \n",
    "  as_task_regr(\n",
    "    subset(Dmlr, select = c(y, Mediator_vars)),\n",
    "    target = y,\n",
    "    id = y\n",
    "  ))\n",
    "get_benchi_table(tasks_MED) "
   ],
   "id": "ebd682b7-9245-4df9-afa9-77ad5d9d42af"
  },
  {
   "cell_type": "markdown",
   "metadata": {},
   "source": [
    "### PRS ~ Mediators (no sensory LOC variables)"
   ],
   "id": "b5f2d202-302d-4b00-ace9-bd922471f5f7"
  },
  {
   "cell_type": "code",
   "execution_count": null,
   "metadata": {},
   "outputs": [
    {
     "output_type": "stream",
     "name": "stdout",
     "text": [
      "        lm xgboost ranger\n",
      "MEAN 0.134   0.148  0.137\n",
      "FA   0.130   0.173  0.154\n",
      "BA   0.084   0.083  0.077\n",
      "EC   0.007  -0.002 -0.004\n",
      "ES   0.114   0.108  0.097"
     ]
    }
   ],
   "source": [
    "#| code-fold: true\n",
    "tasks_MED <- lapply(PRS_vars, \\(y) \n",
    "  as_task_regr(\n",
    "    subset(Dmlr, select = c(y, Mediator_vars_noLOC)),\n",
    "    target = y,\n",
    "    id = y\n",
    "  ))\n",
    "get_benchi_table(tasks_MED) "
   ],
   "id": "c4189d94-71ff-4769-a6e1-5eb7893f6d39"
  },
  {
   "cell_type": "markdown",
   "metadata": {},
   "source": [
    "### Mediators ~ GIS"
   ],
   "id": "8c56d49c-15b2-4846-b1c2-403ee1331431"
  },
  {
   "cell_type": "code",
   "execution_count": null,
   "metadata": {},
   "outputs": [
    {
     "output_type": "stream",
     "name": "stdout",
     "text": [
      "            lm xgboost ranger\n",
      "FEELNAT  0.126   0.138  0.113\n",
      "LNOISE   0.097   0.072  0.084\n",
      "LOC_SENS 0.020  -0.005 -0.023\n",
      "LOC_SOUN 0.041   0.008 -0.001\n",
      "LOC_SCEN 0.039   0.050  0.025\n",
      "LOC_VISE 0.008  -0.026 -0.046\n",
      "LOC_VEGE 0.052   0.029  0.035\n",
      "LOC_FAUN 0.058   0.063  0.046"
     ]
    }
   ],
   "source": [
    "#| code-fold: true\n",
    "tasks_MED_by_GIS <- lapply(Mediator_vars, \\(y) \n",
    "  as_task_regr(\n",
    "    subset(Dmlr, select = c(y, GIS_vars)),\n",
    "    target = y,\n",
    "    id = y\n",
    "  ))\n",
    "get_benchi_table(tasks_MED_by_GIS)"
   ],
   "id": "557d02b0-aec0-41d0-82de-13d039eed76b"
  },
  {
   "cell_type": "markdown",
   "metadata": {},
   "source": [
    "### Legacy Code"
   ],
   "id": "7f9accb7-447c-48a6-90f6-8228df16409e"
  },
  {
   "cell_type": "code",
   "execution_count": null,
   "metadata": {},
   "outputs": [],
   "source": [
    "#| code-summary: \"XGBoost - Parameter Tuning\"\n",
    "#| code-fold: true\n",
    "#| eval: false\n",
    "\n",
    "# Get parameter estimates for XGBoost\n",
    "t <- as_task_regr(\n",
    "  subset(Dmlr, select = c(\"FEELNAT\", GIS_vars)),\n",
    "  target = \"FEELNAT\"\n",
    ")\n",
    "\n",
    "l <- lrn(\"regr.xgboost\",\n",
    "  nrounds = 500  # More iterations due to lower learning rate\n",
    ")\n",
    "\n",
    "# Create search space\n",
    "ps <- ps(\n",
    "  max_depth = p_int(2, 3),\n",
    "  eta = p_dbl(0.001, 0.3, tags = \"logscale\")\n",
    ")\n",
    "\n",
    "# Setup tuning\n",
    "instance <- ti(\n",
    "  task = t,\n",
    "  learner = l,\n",
    "  resampling = rsmp(\"cv\", folds = 3),\n",
    "  measure = msr(\"regr.mse\"),\n",
    "  terminator = trm(\"none\"),\n",
    "  search_space = ps\n",
    ")\n",
    "\n",
    "# Grid search\n",
    "tuner <- mlr3tuning::tnr(\"grid_search\")\n",
    "tuner$optimize(instance)\n",
    "instance$result"
   ],
   "id": "f3ce4a1b-9f76-40ea-9fe9-c691aaa2bb58"
  },
  {
   "cell_type": "code",
   "execution_count": null,
   "metadata": {},
   "outputs": [],
   "source": [
    "#| code-fold: true\n",
    "#| code-summary: \"Superseded setup with mlr3\"\n",
    "#| echo: false\n",
    "#| eval: false\n",
    "#| message: false\n",
    "#| warning: false\n",
    "\n",
    "library(randomForest)\n",
    "\n",
    "fit <- lm(as.formula(paste0(\n",
    "    \"cbind(\", paste(PRS_vars, collapse = \", \"), \")\",\n",
    "    \" ~ \",\n",
    "    paste(Mediator_vars, collapse = \" + \")\n",
    "  )), \n",
    "  D)\n",
    "coef(fit) |> round(2)\n",
    "\n",
    "rsq.lm <- sapply(summary(fit), \\(x) x$r.sq)\n",
    "rsq.rf <- sapply(PRS_vars, \\(x) {\n",
    "  rf <- randomForest(as.formula(paste0(\n",
    "    x, \" ~ \", paste(Mediator_vars, collapse = \" + \")\n",
    "  )), \n",
    "  D, na.action = na.omit\n",
    "  ) \n",
    "  rf$rsq[500]\n",
    "})\n",
    "\n",
    "cbind(lm = rsq.lm, rf = rsq.rf) |> round(2)"
   ],
   "id": "0a08957a-982a-4b36-8ae9-2726de1251b8"
  },
  {
   "cell_type": "code",
   "execution_count": null,
   "metadata": {},
   "outputs": [],
   "source": [
    "#| code-fold: true\n",
    "#| code-summary: \"First basic setup with mlr3\"\n",
    "#| echo: false\n",
    "#| message: false\n",
    "#| warning: false\n",
    "#| eval: false\n",
    "\n",
    "autoplot(mytsk1, type = \"pairs\")\n",
    "mytsk1 <- as_task_regr(\n",
    "  subset(Dmlr, select = c(\"FA\", Mediator_vars, GIS_vars)),\n",
    "  feature = c(Mediator_vars, GIS_vars),\n",
    "  target = \"FA\",\n",
    "  id = \"bla\"\n",
    ")\n",
    "\n",
    "lrn_xgb <- lrn(\"regr.xgboost\")\n",
    "lrn_avg <- lrn(\"regr.featureless\")\n",
    "splits <- partition(mytsk1)\n",
    "lrn_xgb$train(mytsk1, splits$train)$predict(mytsk1, splits$test)$score(mse)\n",
    "lrn_avg$train(mytsk1, splits$train)$predict(mytsk1, splits$test)$score(mse)\n",
    "rr <- resample(mytsk1, lrn_xgb, cv3)\n",
    "rr$aggregate(mse)\n",
    "\n",
    "learners <- lrns(c(\"regr.featureless\", \"regr.lm\", \"regr.xgboost\", \"regr.ranger\"))\n",
    "learners$regr.xgboost$param_set$set_values(eta = 0.03, nrounds = 300, max_depth = 2)\n",
    "learners <- c(\"regr.featureless\", \"regr.lm\")"
   ],
   "id": "d9046e5d-832b-40e9-990f-c0ac0caef6a0"
  }
 ],
 "nbformat": 4,
 "nbformat_minor": 5,
 "metadata": {}
}
