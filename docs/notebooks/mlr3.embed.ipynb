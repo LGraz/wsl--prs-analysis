{
 "cells": [
  {
   "cell_type": "markdown",
   "metadata": {},
   "source": [
    "# Prediction Analysis for WSL\n",
    "\n",
    "Lukas Graz  \n",
    "February 13, 2025"
   ],
   "id": "a2fa43a0-37e4-4fde-97ec-f8460cb92be8"
  },
  {
   "cell_type": "code",
   "execution_count": null,
   "metadata": {},
   "outputs": [
    {
     "output_type": "stream",
     "name": "stdout",
     "text": [
      "Number of matches per filter criteria (not disjoint)\n",
      "  Headphone  PRS_all_NA    Distance Activity_NA    Duration  HMNoise_NA \n",
      "        303         226         221         102          96          96 \n",
      "JourneyTime \n",
      "         20 \n",
      "Keep  1494 of 2206 observations"
     ]
    },
    {
     "output_type": "stream",
     "name": "stderr",
     "text": [
      "Imputing PRS_orig_vars"
     ]
    },
    {
     "output_type": "stream",
     "name": "stderr",
     "text": [
      "TODO: Remove PCA?"
     ]
    },
    {
     "output_type": "stream",
     "name": "stderr",
     "text": [
      "Imputing mediators & GIS_vars for MLR"
     ]
    }
   ],
   "source": [
    "#| code-fold: false\n",
    "source(\"R/data_prep.R\")"
   ],
   "id": "88af516a-080c-4928-98a3-c09ab8660c24"
  },
  {
   "cell_type": "markdown",
   "metadata": {},
   "source": [
    "## Setup"
   ],
   "id": "ffa665f3-fa60-41c4-a5d3-c0b60c342a3b"
  },
  {
   "cell_type": "code",
   "execution_count": null,
   "metadata": {},
   "outputs": [
    {
     "output_type": "stream",
     "name": "stderr",
     "text": [
      "Registered S3 method overwritten by 'GGally':\n",
      "  method from   \n",
      "  +.gg   ggplot2"
     ]
    }
   ],
   "source": [
    "#| code-fold: true\n",
    "#| code-summary: \"Benchmark helper function\"\n",
    "library(mlr3verse, quietly = TRUE)\n",
    "library(GGally, quietly = TRUE, warn.conflicts = FALSE)"
   ],
   "id": "845a95fa-cc8a-4f2a-9f9b-b5c85e46f406"
  },
  {
   "cell_type": "markdown",
   "metadata": {},
   "source": [
    "Testing prediction quality of GIS_vars -\\> Mediators -\\> PRS_vars using\n",
    "\n",
    "-   Linear models\n",
    "-   Random forests (default parameters)\n",
    "-   XGBoost (with parameter tuning)\n",
    "-   LASSO (not shown since inferior)\n",
    "\n",
    "**GIS Variables:**"
   ],
   "id": "fb81ab8f-6119-405d-9898-ed7618160e2c"
  },
  {
   "cell_type": "code",
   "execution_count": null,
   "metadata": {},
   "outputs": [
    {
     "output_type": "stream",
     "name": "stdout",
     "text": [
      " [1] \"LCARTIF_sqrt\"   \"LCFOREST_sqrt\"  \"HETER\"          \"OVDIST_sqrt\"   \n",
      " [5] \"VIS5K_sqrt\"     \"RL_NDVI\"        \"RL_NOISE\"       \"DISTKM_sqrt\"   \n",
      " [9] \"JNYTIME_sqrt\"   \"STRIMP123_sqrt\" \"STRIMP999_sqrt\""
     ]
    }
   ],
   "source": [
    "#| echo: false\n",
    "GIS_vars"
   ],
   "id": "ff4f375d-d672-40ba-997e-e6b850041d14"
  },
  {
   "cell_type": "markdown",
   "metadata": {},
   "source": [
    "**Mediators:**"
   ],
   "id": "a4e08bf0-5da8-4129-8f6a-89406c44baf4"
  },
  {
   "cell_type": "code",
   "execution_count": null,
   "metadata": {},
   "outputs": [
    {
     "output_type": "stream",
     "name": "stdout",
     "text": [
      "[1] \"FEELNAT\"  \"LNOISE\"   \"LOC_SENS\" \"LOC_SOUN\" \"LOC_SCEN\" \"LOC_VISE\" \"LOC_VEGE\"\n",
      "[8] \"LOC_FAUN\""
     ]
    }
   ],
   "source": [
    "#| echo: false\n",
    "Mediator_vars"
   ],
   "id": "e0319811-f63f-410b-ba0b-71da8d7c3d6a"
  },
  {
   "cell_type": "markdown",
   "metadata": {},
   "source": [
    "### PRS ~ GIS"
   ],
   "id": "5747a050-75bb-4d07-a2f9-0cf84d8a3268"
  },
  {
   "cell_type": "code",
   "execution_count": null,
   "metadata": {},
   "outputs": [
    {
     "output_type": "stream",
     "name": "stdout",
     "text": [
      "       lm xgboost ranger\n",
      "LA   0.00    0.02   0.00\n",
      "BA   0.00   -0.02  -0.03\n",
      "EC  -0.01   -0.05  -0.05\n",
      "ES   0.05    0.04   0.03\n",
      "PC1 -0.01   -0.01  -0.03\n",
      "PC2  0.04    0.01   0.00\n",
      "PC3  0.03    0.04   0.02\n",
      "PC4 -0.01   -0.01  -0.01"
     ]
    }
   ],
   "source": [
    "#| code-fold: true\n",
    "tasks_GIS <- lapply(PRS_vars, \\(y) \n",
    "  as_task_regr(\n",
    "    subset(Dmlr, select = c(y, GIS_vars)),\n",
    "    target = y,\n",
    "    id = y\n",
    "  ))\n",
    "get_benchi_table(tasks_GIS) "
   ],
   "id": "d872bbeb-2e9c-4daf-9dc3-e64b08e31c9f"
  },
  {
   "cell_type": "markdown",
   "metadata": {},
   "source": [
    "GIS variables alone show poor predictive performance.\n",
    "\n",
    "### PRS ~ GIS + Mediators"
   ],
   "id": "47e71700-e921-435b-8030-6a957c5e4cb0"
  },
  {
   "cell_type": "code",
   "execution_count": null,
   "metadata": {},
   "outputs": [
    {
     "output_type": "stream",
     "name": "stdout",
     "text": [
      "      lm xgboost ranger\n",
      "LA  0.22    0.25   0.24\n",
      "BA  0.13    0.14   0.12\n",
      "EC  0.02    0.00   0.01\n",
      "ES  0.15    0.16   0.15\n",
      "PC1 0.22    0.23   0.23\n",
      "PC2 0.07    0.04   0.06\n",
      "PC3 0.02    0.04   0.04\n",
      "PC4 0.01    0.01   0.01"
     ]
    }
   ],
   "source": [
    "#| code-fold: true\n",
    "tasks_GIS_MED <- lapply(PRS_vars, \\(y) \n",
    "  as_task_regr(\n",
    "    subset(Dmlr, select = c(y, Mediator_vars, GIS_vars)),\n",
    "    target = y,\n",
    "    id = y\n",
    "  ))\n",
    "get_benchi_table(tasks_GIS_MED) "
   ],
   "id": "39dee2fc-d4bc-436e-9127-cf8535000af6"
  },
  {
   "cell_type": "markdown",
   "metadata": {},
   "source": [
    "### PRS ~ Mediators"
   ],
   "id": "e15d73c4-d19b-4d28-bd4e-2bd2f1f966d5"
  },
  {
   "cell_type": "code",
   "execution_count": null,
   "metadata": {},
   "outputs": [
    {
     "output_type": "stream",
     "name": "stdout",
     "text": [
      "      lm xgboost ranger\n",
      "LA  0.21    0.24   0.20\n",
      "BA  0.14    0.13   0.09\n",
      "EC  0.03    0.02  -0.03\n",
      "ES  0.13    0.11   0.06\n",
      "PC1 0.22    0.23   0.20\n",
      "PC2 0.06    0.05   0.02\n",
      "PC3 0.00   -0.02  -0.06\n",
      "PC4 0.00   -0.01  -0.03"
     ]
    }
   ],
   "source": [
    "#| code-fold: true\n",
    "tasks_MED <- lapply(PRS_vars, \\(y) \n",
    "  as_task_regr(\n",
    "    subset(Dmlr, select = c(y, Mediator_vars)),\n",
    "    target = y,\n",
    "    id = y\n",
    "  ))\n",
    "get_benchi_table(tasks_MED) "
   ],
   "id": "70638016-9a92-4298-bd9a-e184ae97287f"
  },
  {
   "cell_type": "markdown",
   "metadata": {},
   "source": [
    "### Mediators ~ GIS"
   ],
   "id": "f00888f4-4ad7-4ded-9bd4-96cce06ab928"
  },
  {
   "cell_type": "code",
   "execution_count": null,
   "metadata": {},
   "outputs": [
    {
     "output_type": "stream",
     "name": "stdout",
     "text": [
      "           lm xgboost ranger\n",
      "FEELNAT  0.13    0.12   0.09\n",
      "LNOISE   0.09    0.07   0.07\n",
      "LOC_SENS 0.01   -0.01  -0.02\n",
      "LOC_SOUN 0.05    0.00   0.00\n",
      "LOC_SCEN 0.04    0.04   0.02\n",
      "LOC_VISE 0.00   -0.03  -0.04\n",
      "LOC_VEGE 0.06    0.05   0.04\n",
      "LOC_FAUN 0.06    0.07   0.04"
     ]
    }
   ],
   "source": [
    "#| code-fold: true\n",
    "tasks_MED_by_GIS <- lapply(Mediator_vars, \\(y) \n",
    "  as_task_regr(\n",
    "    subset(Dmlr, select = c(y, GIS_vars)),\n",
    "    target = y,\n",
    "    id = y\n",
    "  ))\n",
    "get_benchi_table(tasks_MED_by_GIS)"
   ],
   "id": "77f9f63b-12d1-4521-961c-b13f88d5719c"
  },
  {
   "cell_type": "markdown",
   "metadata": {},
   "source": [
    "### Legacy Code"
   ],
   "id": "50d994f6-069d-42bd-a7e3-458b7f3b1f96"
  },
  {
   "cell_type": "code",
   "execution_count": null,
   "metadata": {},
   "outputs": [],
   "source": [
    "#| code-summary: \"XGBoost - Parameter Tuning\"\n",
    "#| code-fold: true\n",
    "#| eval: false\n",
    "\n",
    "# Get parameter estimates for XGBoost\n",
    "t <- as_task_regr(\n",
    "  subset(Dmlr, select = c(\"FEELNAT\", GIS_vars)),\n",
    "  target = \"FEELNAT\"\n",
    ")\n",
    "\n",
    "l <- lrn(\"regr.xgboost\",\n",
    "  nrounds = 500  # More iterations due to lower learning rate\n",
    ")\n",
    "\n",
    "# Create search space\n",
    "ps <- ps(\n",
    "  max_depth = p_int(2, 3),\n",
    "  eta = p_dbl(0.001, 0.3, tags = \"logscale\")\n",
    ")\n",
    "\n",
    "# Setup tuning\n",
    "instance <- ti(\n",
    "  task = t,\n",
    "  learner = l,\n",
    "  resampling = rsmp(\"cv\", folds = 3),\n",
    "  measure = msr(\"regr.mse\"),\n",
    "  terminator = trm(\"none\"),\n",
    "  search_space = ps\n",
    ")\n",
    "\n",
    "# Grid search\n",
    "tuner <- mlr3tuning::tnr(\"grid_search\")\n",
    "tuner$optimize(instance)\n",
    "instance$result"
   ],
   "id": "a47cb1c1-1c98-48c2-82fe-166fa8b214f6"
  },
  {
   "cell_type": "code",
   "execution_count": null,
   "metadata": {},
   "outputs": [],
   "source": [
    "#| code-fold: true\n",
    "#| code-summary: \"Superseded setup with mlr3\"\n",
    "#| echo: false\n",
    "#| eval: false\n",
    "#| message: false\n",
    "#| warning: false\n",
    "\n",
    "library(randomForest)\n",
    "\n",
    "fit <- lm(as.formula(paste0(\n",
    "    \"cbind(\", paste(PRS_vars, collapse = \", \"), \")\",\n",
    "    \" ~ \",\n",
    "    paste(Mediator_vars, collapse = \" + \")\n",
    "  )), \n",
    "  D)\n",
    "coef(fit) |> round(2)\n",
    "\n",
    "rsq.lm <- sapply(summary(fit), \\(x) x$r.sq)\n",
    "rsq.rf <- sapply(PRS_vars, \\(x) {\n",
    "  rf <- randomForest(as.formula(paste0(\n",
    "    x, \" ~ \", paste(Mediator_vars, collapse = \" + \")\n",
    "  )), \n",
    "  D, na.action = na.omit\n",
    "  ) \n",
    "  rf$rsq[500]\n",
    "})\n",
    "\n",
    "cbind(lm = rsq.lm, rf = rsq.rf) |> round(2)"
   ],
   "id": "09a3b475-1623-42c6-9573-117777126bf8"
  },
  {
   "cell_type": "code",
   "execution_count": null,
   "metadata": {},
   "outputs": [],
   "source": [
    "#| code-fold: true\n",
    "#| code-summary: \"First basic setup with mlr3\"\n",
    "#| echo: false\n",
    "#| message: false\n",
    "#| warning: false\n",
    "#| eval: false\n",
    "\n",
    "autoplot(mytsk1, type = \"pairs\")\n",
    "mytsk1 <- as_task_regr(\n",
    "  subset(Dmlr, select = c(\"LA\", Mediator_vars, GIS_vars)),\n",
    "  feature = c(Mediator_vars, GIS_vars),\n",
    "  target = \"LA\",\n",
    "  id = \"bla\"\n",
    ")\n",
    "\n",
    "lrn_xgb <- lrn(\"regr.xgboost\")\n",
    "lrn_avg <- lrn(\"regr.featureless\")\n",
    "splits <- partition(mytsk1)\n",
    "lrn_xgb$train(mytsk1, splits$train)$predict(mytsk1, splits$test)$score(mse)\n",
    "lrn_avg$train(mytsk1, splits$train)$predict(mytsk1, splits$test)$score(mse)\n",
    "rr <- resample(mytsk1, lrn_xgb, cv3)\n",
    "rr$aggregate(mse)\n",
    "\n",
    "learners <- lrns(c(\"regr.featureless\", \"regr.lm\", \"regr.xgboost\", \"regr.ranger\"))\n",
    "learners$regr.xgboost$param_set$set_values(eta = 0.03, nrounds = 300, max_depth = 2)\n",
    "learners <- c(\"regr.featureless\", \"regr.lm\")"
   ],
   "id": "30f9dabb-b3a1-4fe0-a2de-9cd293e71e70"
  }
 ],
 "nbformat": 4,
 "nbformat_minor": 5,
 "metadata": {}
}
