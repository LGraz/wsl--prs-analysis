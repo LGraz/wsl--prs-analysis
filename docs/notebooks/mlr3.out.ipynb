{
 "cells": [
  {
   "cell_type": "markdown",
   "metadata": {},
   "source": [
    "# Prediction Analysis for WSL\n",
    "\n",
    "Lukas Graz  \n",
    "February 13, 2025"
   ],
   "id": "d0d24883-9b25-44ca-bdf5-a7280233ae31"
  },
  {
   "cell_type": "code",
   "execution_count": null,
   "metadata": {},
   "outputs": [
    {
     "output_type": "stream",
     "name": "stdout",
     "text": [
      "Number of matches per filter criteria (not disjoint)\n",
      "  Headphone  PRS_all_NA    Distance Activity_NA    Duration  HMNoise_NA \n",
      "        303         226         221         102          96          96 \n",
      "JourneyTime \n",
      "         20 \n",
      "Keep  1494 of 2206 observations"
     ]
    },
    {
     "output_type": "stream",
     "name": "stderr",
     "text": [
      "Imputing PRS_orig_vars"
     ]
    }
   ],
   "source": [
    "source(\"R/data_prep.R\")\n"
   ],
   "id": "56fb5b84-ef52-4d0a-bc3d-13febce38517"
  },
  {
   "cell_type": "markdown",
   "metadata": {},
   "source": [
    "## Setup"
   ],
   "id": "085ac408-3ff2-40fb-9526-8f141608b666"
  },
  {
   "cell_type": "code",
   "execution_count": null,
   "metadata": {},
   "outputs": [],
   "source": [
    "Mediator_vars_noLOC <- grep(\"LOC_\", Mediator_vars, invert = TRUE, value = TRUE)\n"
   ],
   "id": "e99b8e66-1e21-4d22-886c-b1cf6fef98db"
  },
  {
   "cell_type": "code",
   "execution_count": null,
   "metadata": {},
   "outputs": [],
   "source": [
    "library(mlr3verse, quietly = TRUE)\n",
    "\n",
    "mse <- msrs(c(\"regr.mse\"))\n",
    "\n",
    "if (!interactive())\n",
    "  lgr::get_logger(\"mlr3\")$set_threshold(\"warn\")\n",
    "\n",
    "get_benchi_table <- function(tasks, nfolds = 5) {\n",
    "  set.seed(123)\n",
    "  learners <- lrns(c(\"regr.featureless\", \"regr.lm\", \"regr.xgboost\", \"regr.ranger\"))\n",
    "  learners$regr.xgboost$param_set$set_values(\n",
    "    eta = 0.03, \n",
    "    nrounds = 300, \n",
    "    max_depth = 2\n",
    "  )\n",
    "\n",
    "  benchi <- xfun::cache_rds({\n",
    "    benchmark(benchmark_grid(\n",
    "      tasks, \n",
    "      learners, \n",
    "      rsmp(\"cv\", folds = nfolds)\n",
    "    ))\n",
    "  }, \n",
    "  file = \"benchmark.rds\", \n",
    "  dir = \"cache/\",\n",
    "  hash = list(tasks, nfolds)\n",
    "  )\n",
    "  \n",
    "  res <- tidyr::pivot_wider(benchi$aggregate(mse), \n",
    "    id_cols = task_id,\n",
    "    names_from = learner_id,\n",
    "    values_from = regr.mse\n",
    "  ) |> as.data.frame()\n",
    "  \n",
    "  rownames(res) <- res$task_id\n",
    "  res <- res[, -1]\n",
    "  colnames(res) <- gsub(\"regr.\", \"\", colnames(res))\n",
    "  stopifnot(any(colnames(res) == \"featureless\"))\n",
    "  res <- 1 - res / res$featureless\n",
    "  res[, -1, drop = FALSE] |> round(3)\n",
    "}\n"
   ],
   "id": "e8dd31a4-9178-485f-8139-05a4dc009337"
  },
  {
   "cell_type": "markdown",
   "metadata": {},
   "source": [
    "Testing prediction quality of GIS_vars -\\> Mediators -\\> PRS_vars using\n",
    "\n",
    "-   Linear models\n",
    "-   Random forests (default parameters)\n",
    "-   XGBoost (with parameter tuning)\n",
    "-   FASSO (not shown since inferior)\n",
    "\n",
    "**GIS Variables:**"
   ],
   "id": "aff67b7c-6ec6-4ce6-aaf5-2ffec9de1279"
  },
  {
   "cell_type": "code",
   "execution_count": null,
   "metadata": {},
   "outputs": [
    {
     "output_type": "stream",
     "name": "stdout",
     "text": [
      " [1] \"LCARTIF_sqrt\"   \"LCFOREST_sqrt\"  \"HETER\"          \"OVDIST_sqrt\"   \n",
      " [5] \"VIS5K_sqrt\"     \"RL_NDVI\"        \"RL_NOISE\"       \"DISTKM_sqrt\"   \n",
      " [9] \"JNYTIME_sqrt\"   \"STRIMP123_sqrt\" \"STRIMP999_sqrt\""
     ]
    }
   ],
   "source": [
    "GIS_vars\n"
   ],
   "id": "78786625-ba55-444f-9a98-49782573c99f"
  },
  {
   "cell_type": "markdown",
   "metadata": {},
   "source": [
    "**Mediators:**"
   ],
   "id": "c74809a4-0030-4c57-a8a7-eeb9b9c4f309"
  },
  {
   "cell_type": "code",
   "execution_count": null,
   "metadata": {},
   "outputs": [
    {
     "output_type": "stream",
     "name": "stdout",
     "text": [
      "[1] \"FEELNAT\"  \"LNOISE\"   \"LOC_SENS\" \"LOC_SOUN\" \"LOC_SCEN\" \"LOC_VISE\" \"LOC_VEGE\"\n",
      "[8] \"LOC_FAUN\""
     ]
    }
   ],
   "source": [
    "Mediator_vars\n"
   ],
   "id": "c23e1687-0267-49dd-a5bd-c93044b210fd"
  },
  {
   "cell_type": "markdown",
   "metadata": {},
   "source": [
    "**Mediators (no sensory LOC variables):**"
   ],
   "id": "0ff82d3f-c537-4e81-9b08-fe30844db6c4"
  },
  {
   "cell_type": "code",
   "execution_count": null,
   "metadata": {},
   "outputs": [
    {
     "output_type": "stream",
     "name": "stdout",
     "text": [
      "[1] \"FEELNAT\" \"LNOISE\" "
     ]
    }
   ],
   "source": [
    "Mediator_vars_noLOC\n"
   ],
   "id": "b61932ce-f54a-4877-8599-5ea1813c839c"
  },
  {
   "cell_type": "markdown",
   "metadata": {},
   "source": [
    "### PRS ~ GIS"
   ],
   "id": "83494226-09db-4fc1-8852-02b11c7c7066"
  },
  {
   "cell_type": "code",
   "execution_count": null,
   "metadata": {},
   "outputs": [
    {
     "output_type": "stream",
     "name": "stdout",
     "text": [
      "         lm xgboost ranger\n",
      "MEAN -0.002  -0.003 -0.031\n",
      "FA   -0.002   0.015  0.000\n",
      "BA   -0.006  -0.009 -0.023\n",
      "EC    0.001  -0.027 -0.036\n",
      "ES    0.048   0.048  0.030"
     ]
    }
   ],
   "source": [
    "tasks_GIS <- lapply(PRS_vars, \\(y) \n",
    "  as_task_regr(\n",
    "    subset(Dmlr, select = c(y, GIS_vars)),\n",
    "    target = y,\n",
    "    id = y\n",
    "  ))\n",
    "get_benchi_table(tasks_GIS) \n"
   ],
   "id": "f579ebd5-1c05-4a37-85d0-6274cf1b8d68"
  },
  {
   "cell_type": "markdown",
   "metadata": {},
   "source": [
    "GIS variables alone show poor predictive performance.\n",
    "\n",
    "### PRS ~ GIS + Mediators"
   ],
   "id": "b110387f-affa-44cc-8315-aff3b9984e8d"
  },
  {
   "cell_type": "code",
   "execution_count": null,
   "metadata": {},
   "outputs": [
    {
     "output_type": "stream",
     "name": "stdout",
     "text": [
      "        lm xgboost ranger\n",
      "MEAN 0.226   0.238  0.223\n",
      "FA   0.236   0.263  0.254\n",
      "BA   0.122   0.133  0.133\n",
      "EC   0.041   0.018  0.021\n",
      "ES   0.151   0.169  0.160"
     ]
    }
   ],
   "source": [
    "tasks_GIS_MED <- lapply(PRS_vars, \\(y) \n",
    "  as_task_regr(\n",
    "    subset(Dmlr, select = c(y, Mediator_vars, GIS_vars)),\n",
    "    target = y,\n",
    "    id = y\n",
    "  ))\n",
    "get_benchi_table(tasks_GIS_MED) \n"
   ],
   "id": "e672e213-1a95-45ca-867e-39d46f9e67a6"
  },
  {
   "cell_type": "markdown",
   "metadata": {},
   "source": [
    "### PRS ~ GIS + Mediators (no sensory LOC variables)"
   ],
   "id": "762b4ba9-a280-4f02-9979-38fa49cde7df"
  },
  {
   "cell_type": "code",
   "execution_count": null,
   "metadata": {},
   "outputs": [
    {
     "output_type": "stream",
     "name": "stdout",
     "text": [
      "        lm xgboost ranger\n",
      "MEAN 0.131   0.137  0.139\n",
      "FA   0.133   0.166  0.145\n",
      "BA   0.071   0.064  0.065\n",
      "EC   0.017  -0.014 -0.013\n",
      "ES   0.130   0.145  0.118"
     ]
    }
   ],
   "source": [
    "tasks_GIS_MED <- lapply(PRS_vars, \\(y) \n",
    "  as_task_regr(\n",
    "    subset(Dmlr, select = c(y, Mediator_vars_noLOC, GIS_vars)),\n",
    "    target = y,\n",
    "    id = y\n",
    "  ))\n",
    "get_benchi_table(tasks_GIS_MED) \n"
   ],
   "id": "56d41e53-ee34-47ab-ac21-75e3e6c52fc4"
  },
  {
   "cell_type": "markdown",
   "metadata": {},
   "source": [
    "### PRS ~ Mediators"
   ],
   "id": "9eb5152f-743c-4134-a2d4-1859fcedb510"
  },
  {
   "cell_type": "code",
   "execution_count": null,
   "metadata": {},
   "outputs": [
    {
     "output_type": "stream",
     "name": "stdout",
     "text": [
      "        lm xgboost ranger\n",
      "MEAN 0.225   0.237  0.193\n",
      "FA   0.227   0.258  0.233\n",
      "BA   0.134   0.150  0.111\n",
      "EC   0.035   0.021 -0.020\n",
      "ES   0.130   0.133  0.080"
     ]
    }
   ],
   "source": [
    "tasks_MED <- lapply(PRS_vars, \\(y) \n",
    "  as_task_regr(\n",
    "    subset(Dmlr, select = c(y, Mediator_vars)),\n",
    "    target = y,\n",
    "    id = y\n",
    "  ))\n",
    "get_benchi_table(tasks_MED) \n"
   ],
   "id": "e56c4566-0454-449d-b035-1cf885dc231d"
  },
  {
   "cell_type": "markdown",
   "metadata": {},
   "source": [
    "### PRS ~ Mediators (no sensory LOC variables)"
   ],
   "id": "a9629d00-abb0-45d1-89af-72e050f7ac92"
  },
  {
   "cell_type": "code",
   "execution_count": null,
   "metadata": {},
   "outputs": [
    {
     "output_type": "stream",
     "name": "stdout",
     "text": [
      "        lm xgboost ranger\n",
      "MEAN 0.134   0.148  0.137\n",
      "FA   0.130   0.173  0.154\n",
      "BA   0.084   0.083  0.077\n",
      "EC   0.007  -0.002 -0.004\n",
      "ES   0.114   0.108  0.097"
     ]
    }
   ],
   "source": [
    "tasks_MED <- lapply(PRS_vars, \\(y) \n",
    "  as_task_regr(\n",
    "    subset(Dmlr, select = c(y, Mediator_vars_noLOC)),\n",
    "    target = y,\n",
    "    id = y\n",
    "  ))\n",
    "get_benchi_table(tasks_MED) \n"
   ],
   "id": "40bbb058-4dbf-4c02-8bac-b7c5ff86b5b3"
  },
  {
   "cell_type": "markdown",
   "metadata": {},
   "source": [
    "### Mediators ~ GIS"
   ],
   "id": "303e420f-6aa1-4836-91d5-428d2a0a67ff"
  },
  {
   "cell_type": "code",
   "execution_count": null,
   "metadata": {},
   "outputs": [
    {
     "output_type": "stream",
     "name": "stdout",
     "text": [
      "            lm xgboost ranger\n",
      "FEELNAT  0.126   0.138  0.113\n",
      "LNOISE   0.097   0.072  0.084\n",
      "LOC_SENS 0.020  -0.005 -0.023\n",
      "LOC_SOUN 0.041   0.008 -0.001\n",
      "LOC_SCEN 0.039   0.050  0.025\n",
      "LOC_VISE 0.008  -0.026 -0.046\n",
      "LOC_VEGE 0.052   0.029  0.035\n",
      "LOC_FAUN 0.058   0.063  0.046"
     ]
    }
   ],
   "source": [
    "tasks_MED_by_GIS <- lapply(Mediator_vars, \\(y) \n",
    "  as_task_regr(\n",
    "    subset(Dmlr, select = c(y, GIS_vars)),\n",
    "    target = y,\n",
    "    id = y\n",
    "  ))\n",
    "get_benchi_table(tasks_MED_by_GIS)\n"
   ],
   "id": "14689f07-4122-43eb-a4a5-ec1b6ab1334d"
  },
  {
   "cell_type": "markdown",
   "metadata": {},
   "source": [
    "### Legacy Code"
   ],
   "id": "8a53814b-dd62-4a67-a562-8dbb3b4bb8c5"
  },
  {
   "cell_type": "code",
   "execution_count": null,
   "metadata": {},
   "outputs": [],
   "source": [
    "\n",
    "# Get parameter estimates for XGBoost\n",
    "t <- as_task_regr(\n",
    "  subset(Dmlr, select = c(\"FEELNAT\", GIS_vars)),\n",
    "  target = \"FEELNAT\"\n",
    ")\n",
    "\n",
    "l <- lrn(\"regr.xgboost\",\n",
    "  nrounds = 500  # More iterations due to lower learning rate\n",
    ")\n",
    "\n",
    "# Create search space\n",
    "ps <- ps(\n",
    "  max_depth = p_int(2, 3),\n",
    "  eta = p_dbl(0.001, 0.3, tags = \"logscale\")\n",
    ")\n",
    "\n",
    "# Setup tuning\n",
    "instance <- ti(\n",
    "  task = t,\n",
    "  learner = l,\n",
    "  resampling = rsmp(\"cv\", folds = 3),\n",
    "  measure = msr(\"regr.mse\"),\n",
    "  terminator = trm(\"none\"),\n",
    "  search_space = ps\n",
    ")\n",
    "\n",
    "# Grid search\n",
    "tuner <- mlr3tuning::tnr(\"grid_search\")\n",
    "tuner$optimize(instance)\n",
    "instance$result\n"
   ],
   "id": "4f81c17c-9ec2-4335-9e0b-55dd202e5fe2"
  },
  {
   "cell_type": "code",
   "execution_count": null,
   "metadata": {},
   "outputs": [],
   "source": [
    "\n",
    "library(randomForest)\n",
    "\n",
    "fit <- lm(as.formula(paste0(\n",
    "    \"cbind(\", paste(PRS_vars, collapse = \", \"), \")\",\n",
    "    \" ~ \",\n",
    "    paste(Mediator_vars, collapse = \" + \")\n",
    "  )), \n",
    "  D)\n",
    "coef(fit) |> round(2)\n",
    "\n",
    "rsq.lm <- sapply(summary(fit), \\(x) x$r.sq)\n",
    "rsq.rf <- sapply(PRS_vars, \\(x) {\n",
    "  rf <- randomForest(as.formula(paste0(\n",
    "    x, \" ~ \", paste(Mediator_vars, collapse = \" + \")\n",
    "  )), \n",
    "  D, na.action = na.omit\n",
    "  ) \n",
    "  rf$rsq[500]\n",
    "})\n",
    "\n",
    "cbind(lm = rsq.lm, rf = rsq.rf) |> round(2)\n"
   ],
   "id": "d69f7e1f-f018-41c3-b85a-b3a4c1e1b869"
  },
  {
   "cell_type": "code",
   "execution_count": null,
   "metadata": {},
   "outputs": [],
   "source": [
    "\n",
    "autoplot(mytsk1, type = \"pairs\")\n",
    "mytsk1 <- as_task_regr(\n",
    "  subset(Dmlr, select = c(\"FA\", Mediator_vars, GIS_vars)),\n",
    "  feature = c(Mediator_vars, GIS_vars),\n",
    "  target = \"FA\",\n",
    "  id = \"bla\"\n",
    ")\n",
    "\n",
    "lrn_xgb <- lrn(\"regr.xgboost\")\n",
    "lrn_avg <- lrn(\"regr.featureless\")\n",
    "splits <- partition(mytsk1)\n",
    "lrn_xgb$train(mytsk1, splits$train)$predict(mytsk1, splits$test)$score(mse)\n",
    "lrn_avg$train(mytsk1, splits$train)$predict(mytsk1, splits$test)$score(mse)\n",
    "rr <- resample(mytsk1, lrn_xgb, cv3)\n",
    "rr$aggregate(mse)\n",
    "\n",
    "learners <- lrns(c(\"regr.featureless\", \"regr.lm\", \"regr.xgboost\", \"regr.ranger\"))\n",
    "learners$regr.xgboost$param_set$set_values(eta = 0.03, nrounds = 300, max_depth = 2)\n",
    "learners <- c(\"regr.featureless\", \"regr.lm\")\n"
   ],
   "id": "cebf26fa-caf8-4d43-a45a-47659ae4fb25"
  }
 ],
 "nbformat": 4,
 "nbformat_minor": 5,
 "metadata": {}
}
