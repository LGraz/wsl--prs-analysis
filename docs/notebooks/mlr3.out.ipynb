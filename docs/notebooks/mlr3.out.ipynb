{
 "cells": [
  {
   "cell_type": "markdown",
   "metadata": {},
   "source": [
    "# Prediction Analysis for WSL\n",
    "\n",
    "Lukas Graz  \n",
    "February 13, 2025"
   ],
   "id": "40b7f256-b92b-45c8-93d7-4b5e3ea4dcfe"
  },
  {
   "cell_type": "code",
   "execution_count": null,
   "metadata": {},
   "outputs": [
    {
     "output_type": "stream",
     "name": "stdout",
     "text": [
      "Number of matches per filter criteria (not disjoint)\n",
      "  Headphone  PRS_all_NA    Distance Activity_NA    Duration  HMNoise_NA \n",
      "        303         226         221         102          96          96 \n",
      "JourneyTime \n",
      "         20 \n",
      "Keep  1494 of 2206 observations"
     ]
    },
    {
     "output_type": "stream",
     "name": "stderr",
     "text": [
      "Warning: package 'missForest' was built under R version 4.5.1"
     ]
    },
    {
     "output_type": "stream",
     "name": "stderr",
     "text": [
      "Imputing PRS_orig_vars"
     ]
    }
   ],
   "source": [
    "source(\"R/data_prep.R\")\n"
   ],
   "id": "c13d2e7d-9b18-4eee-a4c6-1981f3dc0cb1"
  },
  {
   "cell_type": "markdown",
   "metadata": {},
   "source": [
    "## Setup"
   ],
   "id": "bbbf86e0-7d6a-4d93-838f-0e0544424649"
  },
  {
   "cell_type": "code",
   "execution_count": null,
   "metadata": {},
   "outputs": [],
   "source": [
    "Mediator_vars <- grep(\"LOC_\", Mediator_vars, invert = TRUE, value = TRUE)\n"
   ],
   "id": "d8ee5657-f827-4e08-a6a3-12234d3e5c82"
  },
  {
   "cell_type": "code",
   "execution_count": null,
   "metadata": {},
   "outputs": [
    {
     "output_type": "stream",
     "name": "stderr",
     "text": [
      "Warning: package 'mlr3verse' was built under R version 4.5.1"
     ]
    }
   ],
   "source": [
    "library(mlr3verse, quietly = TRUE)\n"
   ],
   "id": "46d3d2e3-18d9-48fd-9c1e-029868814a60"
  },
  {
   "cell_type": "markdown",
   "metadata": {},
   "source": [
    "Testing prediction quality of GIS_vars -\\> Mediators -\\> PRS_vars using\n",
    "\n",
    "-   Linear models\n",
    "-   Random forests (default parameters)\n",
    "-   XGBoost (with parameter tuning)\n",
    "-   FASSO (not shown since inferior)\n",
    "\n",
    "**GIS Variables:**"
   ],
   "id": "00a7147f-6368-47a0-9bfa-dc407a3af02d"
  },
  {
   "cell_type": "code",
   "execution_count": null,
   "metadata": {},
   "outputs": [
    {
     "output_type": "stream",
     "name": "stdout",
     "text": [
      " [1] \"LCARTIF_sqrt\"   \"LCFOREST_sqrt\"  \"HETER\"          \"OVDIST_sqrt\"   \n",
      " [5] \"VIS5K_sqrt\"     \"RL_NDVI\"        \"RL_NOISE\"       \"DISTKM_sqrt\"   \n",
      " [9] \"JNYTIME_sqrt\"   \"STRIMP123_sqrt\" \"STRIMP999_sqrt\""
     ]
    }
   ],
   "source": [
    "GIS_vars\n"
   ],
   "id": "a8b5dca5-fe88-4e95-a4d4-e339fa70e097"
  },
  {
   "cell_type": "markdown",
   "metadata": {},
   "source": [
    "**Mediators:**"
   ],
   "id": "46843eae-f689-462d-a1de-85b4989eb3c9"
  },
  {
   "cell_type": "code",
   "execution_count": null,
   "metadata": {},
   "outputs": [
    {
     "output_type": "stream",
     "name": "stdout",
     "text": [
      "[1] \"FEELNAT\" \"LNOISE\" "
     ]
    }
   ],
   "source": [
    "Mediator_vars\n"
   ],
   "id": "21df37ff-6c01-4ce9-833f-227867782537"
  },
  {
   "cell_type": "markdown",
   "metadata": {},
   "source": [
    "### PRS ~ GIS"
   ],
   "id": "eb12da60-6f42-44d4-bc3c-7ab003101c77"
  },
  {
   "cell_type": "code",
   "execution_count": null,
   "metadata": {},
   "outputs": [
    {
     "output_type": "stream",
     "name": "stdout",
     "text": [
      "         lm xgboost ranger\n",
      "MEAN -0.002  -0.005 -0.035\n",
      "FA   -0.002   0.014  0.005\n",
      "BA   -0.006  -0.009 -0.021\n",
      "EC    0.002  -0.024 -0.035\n",
      "ES    0.046   0.044  0.026"
     ]
    }
   ],
   "source": [
    "tasks_GIS <- lapply(PRS_vars, \\(y) \n",
    "  as_task_regr(\n",
    "    subset(Dmlr, select = c(y, GIS_vars)),\n",
    "    target = y,\n",
    "    id = y\n",
    "  ))\n",
    "get_benchi_table(tasks_GIS) \n"
   ],
   "id": "bf521245-37d3-4843-ada1-e8307eeedc7e"
  },
  {
   "cell_type": "markdown",
   "metadata": {},
   "source": [
    "GIS variables alone show poor predictive performance.\n",
    "\n",
    "### PRS ~ GIS + Mediators"
   ],
   "id": "c78fec6b-8430-4cea-a9ca-0024372221fb"
  },
  {
   "cell_type": "code",
   "execution_count": null,
   "metadata": {},
   "outputs": [
    {
     "output_type": "stream",
     "name": "stdout",
     "text": [
      "        lm xgboost ranger\n",
      "MEAN 0.134   0.143  0.135\n",
      "FA   0.135   0.164  0.144\n",
      "BA   0.072   0.069  0.064\n",
      "EC   0.019  -0.015 -0.012\n",
      "ES   0.130   0.144  0.117"
     ]
    }
   ],
   "source": [
    "tasks_GIS_MED <- lapply(PRS_vars, \\(y) \n",
    "  as_task_regr(\n",
    "    subset(Dmlr, select = c(y, Mediator_vars, GIS_vars)),\n",
    "    target = y,\n",
    "    id = y\n",
    "  ))\n",
    "get_benchi_table(tasks_GIS_MED) \n"
   ],
   "id": "898e93e0-622d-4474-84d8-eccad5289c37"
  },
  {
   "cell_type": "markdown",
   "metadata": {},
   "source": [
    "### PRS ~ Mediators"
   ],
   "id": "9c5b2418-6a8e-4a05-9bdc-16c3b93a19c1"
  },
  {
   "cell_type": "code",
   "execution_count": null,
   "metadata": {},
   "outputs": [
    {
     "output_type": "stream",
     "name": "stdout",
     "text": [
      "        lm xgboost ranger\n",
      "MEAN 0.137   0.155  0.148\n",
      "FA   0.131   0.170  0.165\n",
      "BA   0.085   0.086  0.077\n",
      "EC   0.008   0.011  0.008\n",
      "ES   0.116   0.108  0.102"
     ]
    }
   ],
   "source": [
    "tasks_MED <- lapply(PRS_vars, \\(y) \n",
    "  as_task_regr(\n",
    "    subset(Dmlr, select = c(y, Mediator_vars)),\n",
    "    target = y,\n",
    "    id = y\n",
    "  ))\n",
    "get_benchi_table(tasks_MED) \n"
   ],
   "id": "8a17bc50-024c-4b59-9c7b-463ca4cacca2"
  },
  {
   "cell_type": "markdown",
   "metadata": {},
   "source": [
    "### Mediators ~ GIS"
   ],
   "id": "785167a9-1048-432b-b6f1-769c05f008ae"
  },
  {
   "cell_type": "code",
   "execution_count": null,
   "metadata": {},
   "outputs": [
    {
     "output_type": "stream",
     "name": "stdout",
     "text": [
      "           lm xgboost ranger\n",
      "FEELNAT 0.127   0.136  0.112\n",
      "LNOISE  0.096   0.068  0.082"
     ]
    }
   ],
   "source": [
    "tasks_MED_by_GIS <- lapply(Mediator_vars, \\(y) \n",
    "  as_task_regr(\n",
    "    subset(Dmlr, select = c(y, GIS_vars)),\n",
    "    target = y,\n",
    "    id = y\n",
    "  ))\n",
    "get_benchi_table(tasks_MED_by_GIS)\n"
   ],
   "id": "fdcd223b-239a-40be-b87d-97b19f4c1c8c"
  },
  {
   "cell_type": "markdown",
   "metadata": {},
   "source": [
    "### Legacy Code"
   ],
   "id": "1069233a-c805-4b2c-8216-6cb61bc4a96f"
  },
  {
   "cell_type": "code",
   "execution_count": null,
   "metadata": {},
   "outputs": [],
   "source": [
    "\n",
    "# Get parameter estimates for XGBoost\n",
    "t <- as_task_regr(\n",
    "  subset(Dmlr, select = c(\"FEELNAT\", GIS_vars)),\n",
    "  target = \"FEELNAT\"\n",
    ")\n",
    "\n",
    "l <- lrn(\"regr.xgboost\",\n",
    "  nrounds = 500  # More iterations due to lower learning rate\n",
    ")\n",
    "\n",
    "# Create search space\n",
    "ps <- ps(\n",
    "  max_depth = p_int(2, 3),\n",
    "  eta = p_dbl(0.001, 0.3, tags = \"logscale\")\n",
    ")\n",
    "\n",
    "# Setup tuning\n",
    "instance <- ti(\n",
    "  task = t,\n",
    "  learner = l,\n",
    "  resampling = rsmp(\"cv\", folds = 3),\n",
    "  measure = msr(\"regr.mse\"),\n",
    "  terminator = trm(\"none\"),\n",
    "  search_space = ps\n",
    ")\n",
    "\n",
    "# Grid search\n",
    "tuner <- mlr3tuning::tnr(\"grid_search\")\n",
    "tuner$optimize(instance)\n",
    "instance$result\n"
   ],
   "id": "c62ab3d7-53e1-45f9-be3f-fd90eb7dde3f"
  },
  {
   "cell_type": "code",
   "execution_count": null,
   "metadata": {},
   "outputs": [],
   "source": [
    "\n",
    "library(randomForest)\n",
    "\n",
    "fit <- lm(as.formula(paste0(\n",
    "    \"cbind(\", paste(PRS_vars, collapse = \", \"), \")\",\n",
    "    \" ~ \",\n",
    "    paste(Mediator_vars, collapse = \" + \")\n",
    "  )), \n",
    "  D)\n",
    "coef(fit) |> round(2)\n",
    "\n",
    "rsq.lm <- sapply(summary(fit), \\(x) x$r.sq)\n",
    "rsq.rf <- sapply(PRS_vars, \\(x) {\n",
    "  rf <- randomForest(as.formula(paste0(\n",
    "    x, \" ~ \", paste(Mediator_vars, collapse = \" + \")\n",
    "  )), \n",
    "  D, na.action = na.omit\n",
    "  ) \n",
    "  rf$rsq[500]\n",
    "})\n",
    "\n",
    "cbind(lm = rsq.lm, rf = rsq.rf) |> round(2)\n"
   ],
   "id": "b55bc9a7-5d44-48a6-a5e4-d816e7dfb90a"
  },
  {
   "cell_type": "code",
   "execution_count": null,
   "metadata": {},
   "outputs": [],
   "source": [
    "\n",
    "autoplot(mytsk1, type = \"pairs\")\n",
    "mytsk1 <- as_task_regr(\n",
    "  subset(Dmlr, select = c(\"FA\", Mediator_vars, GIS_vars)),\n",
    "  feature = c(Mediator_vars, GIS_vars),\n",
    "  target = \"FA\",\n",
    "  id = \"bla\"\n",
    ")\n",
    "\n",
    "lrn_xgb <- lrn(\"regr.xgboost\")\n",
    "lrn_avg <- lrn(\"regr.featureless\")\n",
    "splits <- partition(mytsk1)\n",
    "lrn_xgb$train(mytsk1, splits$train)$predict(mytsk1, splits$test)$score(mse)\n",
    "lrn_avg$train(mytsk1, splits$train)$predict(mytsk1, splits$test)$score(mse)\n",
    "rr <- resample(mytsk1, lrn_xgb, cv3)\n",
    "rr$aggregate(mse)\n",
    "\n",
    "learners <- lrns(c(\"regr.featureless\", \"regr.lm\", \"regr.xgboost\", \"regr.ranger\"))\n",
    "learners$regr.xgboost$param_set$set_values(eta = 0.03, nrounds = 300, max_depth = 2)\n",
    "learners <- c(\"regr.featureless\", \"regr.lm\")\n"
   ],
   "id": "4dd2e144-84aa-421a-ab7b-0dbcab54b7a9"
  }
 ],
 "nbformat": 4,
 "nbformat_minor": 5,
 "metadata": {}
}
