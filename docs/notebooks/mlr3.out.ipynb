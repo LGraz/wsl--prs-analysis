{
 "cells": [
  {
   "cell_type": "markdown",
   "metadata": {},
   "source": [
    "# Prediction Analysis for WSL\n",
    "\n",
    "Lukas Graz  \n",
    "February 13, 2025"
   ],
   "id": "ed6623ea-5521-47f9-8628-7ef313881b66"
  },
  {
   "cell_type": "code",
   "execution_count": null,
   "metadata": {},
   "outputs": [
    {
     "output_type": "stream",
     "name": "stdout",
     "text": [
      "Number of matches per filter criteria (not disjoint)\n",
      "  Headphone  PRS_all_NA    Distance Activity_NA    Duration  HMNoise_NA \n",
      "        303         226         221         102          96          96 \n",
      "JourneyTime \n",
      "         20 \n",
      "Keep  1494 of 2206 observations"
     ]
    },
    {
     "output_type": "stream",
     "name": "stderr",
     "text": [
      "Imputing PRS_orig_vars"
     ]
    }
   ],
   "source": [
    "source(\"R/data_prep.R\")\n"
   ],
   "id": "b578ef98-7c0f-46cc-97d0-8c3a961329cd"
  },
  {
   "cell_type": "markdown",
   "metadata": {},
   "source": [
    "## Setup"
   ],
   "id": "74756bd1-57b5-44c1-b002-4621c446aa86"
  },
  {
   "cell_type": "code",
   "execution_count": null,
   "metadata": {},
   "outputs": [],
   "source": [
    "library(mlr3verse, quietly = TRUE)\n",
    "\n",
    "mse <- msrs(c(\"regr.mse\"))\n",
    "\n",
    "if (!interactive())\n",
    "  lgr::get_logger(\"mlr3\")$set_threshold(\"warn\")\n",
    "\n",
    "get_benchi_table <- function(tasks, nfolds = 5) {\n",
    "  set.seed(123)\n",
    "  learners <- lrns(c(\"regr.featureless\", \"regr.lm\", \"regr.xgboost\", \"regr.ranger\"))\n",
    "  learners$regr.xgboost$param_set$set_values(\n",
    "    eta = 0.03, \n",
    "    nrounds = 300, \n",
    "    max_depth = 2\n",
    "  )\n",
    "\n",
    "  benchi <- xfun::cache_rds({\n",
    "    benchmark(benchmark_grid(\n",
    "      tasks, \n",
    "      learners, \n",
    "      rsmp(\"cv\", folds = nfolds)\n",
    "    ))\n",
    "  }, \n",
    "  file = \"benchmark.rds\", \n",
    "  dir = \"cache/\",\n",
    "  hash = list(tasks, nfolds)\n",
    "  )\n",
    "  \n",
    "  res <- tidyr::pivot_wider(benchi$aggregate(mse), \n",
    "    id_cols = task_id,\n",
    "    names_from = learner_id,\n",
    "    values_from = regr.mse\n",
    "  ) |> as.data.frame()\n",
    "  \n",
    "  rownames(res) <- res$task_id\n",
    "  res <- res[, -1]\n",
    "  colnames(res) <- gsub(\"regr.\", \"\", colnames(res))\n",
    "  stopifnot(any(colnames(res) == \"featureless\"))\n",
    "  res <- 1 - res / res$featureless\n",
    "  res[, -1, drop = FALSE] |> round(3)\n",
    "}\n"
   ],
   "id": "e7f350da-e189-4cfc-9c8a-e52a0b43eea3"
  },
  {
   "cell_type": "markdown",
   "metadata": {},
   "source": [
    "Testing prediction quality of GIS_vars -\\> Mediators -\\> PRS_vars using\n",
    "\n",
    "-   Linear models\n",
    "-   Random forests (default parameters)\n",
    "-   XGBoost (with parameter tuning)\n",
    "-   FASSO (not shown since inferior)\n",
    "\n",
    "**GIS Variables:**"
   ],
   "id": "1287cdc7-8e8e-4dc6-b89c-f8274711b227"
  },
  {
   "cell_type": "code",
   "execution_count": null,
   "metadata": {},
   "outputs": [
    {
     "output_type": "stream",
     "name": "stdout",
     "text": [
      " [1] \"LCARTIF_sqrt\"   \"LCFOREST_sqrt\"  \"HETER\"          \"OVDIST_sqrt\"   \n",
      " [5] \"VIS5K_sqrt\"     \"RL_NDVI\"        \"RL_NOISE\"       \"DISTKM_sqrt\"   \n",
      " [9] \"JNYTIME_sqrt\"   \"STRIMP123_sqrt\" \"STRIMP999_sqrt\""
     ]
    }
   ],
   "source": [
    "GIS_vars\n"
   ],
   "id": "2c57744b-efd3-428b-b7c8-7de5a06d30cf"
  },
  {
   "cell_type": "markdown",
   "metadata": {},
   "source": [
    "**Mediators:**"
   ],
   "id": "f4dec1f8-79af-4d56-9c03-fba1bbfebf25"
  },
  {
   "cell_type": "code",
   "execution_count": null,
   "metadata": {},
   "outputs": [
    {
     "output_type": "stream",
     "name": "stdout",
     "text": [
      "[1] \"FEELNAT\"  \"LNOISE\"   \"LOC_SENS\" \"LOC_SOUN\" \"LOC_SCEN\" \"LOC_VISE\" \"LOC_VEGE\"\n",
      "[8] \"LOC_FAUN\""
     ]
    }
   ],
   "source": [
    "Mediator_vars\n"
   ],
   "id": "20416518-8c90-4553-a2fc-0dbd3f5d8fe3"
  },
  {
   "cell_type": "markdown",
   "metadata": {},
   "source": [
    "### PRS ~ GIS"
   ],
   "id": "b0a34eb2-1b8c-4fc4-9cdc-1f174ee8e348"
  },
  {
   "cell_type": "code",
   "execution_count": null,
   "metadata": {},
   "outputs": [
    {
     "output_type": "stream",
     "name": "stdout",
     "text": [
      "         lm xgboost ranger\n",
      "MEAN -0.001  -0.006 -0.035\n",
      "FA   -0.002   0.012  0.002\n",
      "BA   -0.006  -0.010 -0.022\n",
      "EC    0.003  -0.027 -0.037\n",
      "ES    0.047   0.041  0.025"
     ]
    }
   ],
   "source": [
    "tasks_GIS <- lapply(PRS_vars, \\(y) \n",
    "  as_task_regr(\n",
    "    subset(Dmlr, select = c(y, GIS_vars)),\n",
    "    target = y,\n",
    "    id = y\n",
    "  ))\n",
    "get_benchi_table(tasks_GIS) \n"
   ],
   "id": "ab546510-5c6e-402e-94a0-e3027d5862b9"
  },
  {
   "cell_type": "markdown",
   "metadata": {},
   "source": [
    "GIS variables alone show poor predictive performance.\n",
    "\n",
    "### PRS ~ GIS + Mediators"
   ],
   "id": "b4f4dc01-a8c8-4a79-b03e-be9ee69b8453"
  },
  {
   "cell_type": "code",
   "execution_count": null,
   "metadata": {},
   "outputs": [
    {
     "output_type": "stream",
     "name": "stdout",
     "text": [
      "        lm xgboost ranger\n",
      "MEAN 0.227   0.243  0.229\n",
      "FA   0.235   0.259  0.251\n",
      "BA   0.123   0.136  0.134\n",
      "EC   0.045   0.017  0.023\n",
      "ES   0.153   0.169  0.158"
     ]
    }
   ],
   "source": [
    "tasks_GIS_MED <- lapply(PRS_vars, \\(y) \n",
    "  as_task_regr(\n",
    "    subset(Dmlr, select = c(y, Mediator_vars, GIS_vars)),\n",
    "    target = y,\n",
    "    id = y\n",
    "  ))\n",
    "get_benchi_table(tasks_GIS_MED) \n"
   ],
   "id": "5ef17bee-981a-4ba4-bc9d-7fef4a70cee3"
  },
  {
   "cell_type": "markdown",
   "metadata": {},
   "source": [
    "### PRS ~ Mediators"
   ],
   "id": "a5c7fccf-3518-46f3-9378-5d6d8f61484b"
  },
  {
   "cell_type": "code",
   "execution_count": null,
   "metadata": {},
   "outputs": [
    {
     "output_type": "stream",
     "name": "stdout",
     "text": [
      "        lm xgboost ranger\n",
      "MEAN 0.226   0.240  0.197\n",
      "FA   0.226   0.253  0.228\n",
      "BA   0.135   0.150  0.109\n",
      "EC   0.036   0.023 -0.018\n",
      "ES   0.133   0.138  0.080"
     ]
    }
   ],
   "source": [
    "tasks_MED <- lapply(PRS_vars, \\(y) \n",
    "  as_task_regr(\n",
    "    subset(Dmlr, select = c(y, Mediator_vars)),\n",
    "    target = y,\n",
    "    id = y\n",
    "  ))\n",
    "get_benchi_table(tasks_MED) \n"
   ],
   "id": "5f157815-7420-4b25-b97b-0e56c2d5947e"
  },
  {
   "cell_type": "markdown",
   "metadata": {},
   "source": [
    "### Mediators ~ GIS"
   ],
   "id": "26115b81-39d2-4d2b-aaa8-3a7ab2c16e99"
  },
  {
   "cell_type": "code",
   "execution_count": null,
   "metadata": {},
   "outputs": [
    {
     "output_type": "stream",
     "name": "stdout",
     "text": [
      "            lm xgboost ranger\n",
      "FEELNAT  0.127   0.138  0.114\n",
      "LNOISE   0.096   0.070  0.080\n",
      "LOC_SENS 0.020  -0.004 -0.026\n",
      "LOC_SOUN 0.041   0.007 -0.002\n",
      "LOC_SCEN 0.039   0.051  0.022\n",
      "LOC_VISE 0.008  -0.029 -0.043\n",
      "LOC_VEGE 0.052   0.031  0.035\n",
      "LOC_FAUN 0.057   0.063  0.047"
     ]
    }
   ],
   "source": [
    "tasks_MED_by_GIS <- lapply(Mediator_vars, \\(y) \n",
    "  as_task_regr(\n",
    "    subset(Dmlr, select = c(y, GIS_vars)),\n",
    "    target = y,\n",
    "    id = y\n",
    "  ))\n",
    "get_benchi_table(tasks_MED_by_GIS)\n"
   ],
   "id": "d1e7c966-21c1-49b5-8991-dbc8a972aa2f"
  },
  {
   "cell_type": "markdown",
   "metadata": {},
   "source": [
    "### Legacy Code"
   ],
   "id": "e6c1cc95-4e54-47b2-a4f9-df2a3ccf352c"
  },
  {
   "cell_type": "code",
   "execution_count": null,
   "metadata": {},
   "outputs": [],
   "source": [
    "\n",
    "# Get parameter estimates for XGBoost\n",
    "t <- as_task_regr(\n",
    "  subset(Dmlr, select = c(\"FEELNAT\", GIS_vars)),\n",
    "  target = \"FEELNAT\"\n",
    ")\n",
    "\n",
    "l <- lrn(\"regr.xgboost\",\n",
    "  nrounds = 500  # More iterations due to lower learning rate\n",
    ")\n",
    "\n",
    "# Create search space\n",
    "ps <- ps(\n",
    "  max_depth = p_int(2, 3),\n",
    "  eta = p_dbl(0.001, 0.3, tags = \"logscale\")\n",
    ")\n",
    "\n",
    "# Setup tuning\n",
    "instance <- ti(\n",
    "  task = t,\n",
    "  learner = l,\n",
    "  resampling = rsmp(\"cv\", folds = 3),\n",
    "  measure = msr(\"regr.mse\"),\n",
    "  terminator = trm(\"none\"),\n",
    "  search_space = ps\n",
    ")\n",
    "\n",
    "# Grid search\n",
    "tuner <- mlr3tuning::tnr(\"grid_search\")\n",
    "tuner$optimize(instance)\n",
    "instance$result\n"
   ],
   "id": "5c24f20c-9c0c-44d6-ac8e-ca82ec3bbe32"
  },
  {
   "cell_type": "code",
   "execution_count": null,
   "metadata": {},
   "outputs": [],
   "source": [
    "\n",
    "library(randomForest)\n",
    "\n",
    "fit <- lm(as.formula(paste0(\n",
    "    \"cbind(\", paste(PRS_vars, collapse = \", \"), \")\",\n",
    "    \" ~ \",\n",
    "    paste(Mediator_vars, collapse = \" + \")\n",
    "  )), \n",
    "  D)\n",
    "coef(fit) |> round(2)\n",
    "\n",
    "rsq.lm <- sapply(summary(fit), \\(x) x$r.sq)\n",
    "rsq.rf <- sapply(PRS_vars, \\(x) {\n",
    "  rf <- randomForest(as.formula(paste0(\n",
    "    x, \" ~ \", paste(Mediator_vars, collapse = \" + \")\n",
    "  )), \n",
    "  D, na.action = na.omit\n",
    "  ) \n",
    "  rf$rsq[500]\n",
    "})\n",
    "\n",
    "cbind(lm = rsq.lm, rf = rsq.rf) |> round(2)\n"
   ],
   "id": "9f0d0bf8-3c97-4540-a0a8-3d2379a03140"
  },
  {
   "cell_type": "code",
   "execution_count": null,
   "metadata": {},
   "outputs": [],
   "source": [
    "\n",
    "autoplot(mytsk1, type = \"pairs\")\n",
    "mytsk1 <- as_task_regr(\n",
    "  subset(Dmlr, select = c(\"FA\", Mediator_vars, GIS_vars)),\n",
    "  feature = c(Mediator_vars, GIS_vars),\n",
    "  target = \"FA\",\n",
    "  id = \"bla\"\n",
    ")\n",
    "\n",
    "lrn_xgb <- lrn(\"regr.xgboost\")\n",
    "lrn_avg <- lrn(\"regr.featureless\")\n",
    "splits <- partition(mytsk1)\n",
    "lrn_xgb$train(mytsk1, splits$train)$predict(mytsk1, splits$test)$score(mse)\n",
    "lrn_avg$train(mytsk1, splits$train)$predict(mytsk1, splits$test)$score(mse)\n",
    "rr <- resample(mytsk1, lrn_xgb, cv3)\n",
    "rr$aggregate(mse)\n",
    "\n",
    "learners <- lrns(c(\"regr.featureless\", \"regr.lm\", \"regr.xgboost\", \"regr.ranger\"))\n",
    "learners$regr.xgboost$param_set$set_values(eta = 0.03, nrounds = 300, max_depth = 2)\n",
    "learners <- c(\"regr.featureless\", \"regr.lm\")\n"
   ],
   "id": "12bfecbb-b5d6-4e6a-9c84-d4c858608d1e"
  }
 ],
 "nbformat": 4,
 "nbformat_minor": 5,
 "metadata": {}
}
