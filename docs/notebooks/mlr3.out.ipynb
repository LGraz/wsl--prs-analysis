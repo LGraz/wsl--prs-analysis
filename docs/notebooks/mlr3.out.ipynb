{
 "cells": [
  {
   "cell_type": "markdown",
   "metadata": {},
   "source": [
    "# Prediction Analysis for WSL\n",
    "\n",
    "Lukas Graz  \n",
    "February 13, 2025"
   ],
   "id": "dfff5753-14df-44ae-8532-434c07d7953e"
  },
  {
   "cell_type": "code",
   "execution_count": null,
   "metadata": {},
   "outputs": [
    {
     "output_type": "stream",
     "name": "stdout",
     "text": [
      "Number of matches per filter criteria (not disjoint)\n",
      "  Headphone  PRS_all_NA    Distance Activity_NA    Duration  HMNoise_NA \n",
      "        303         226         221         102          96          96 \n",
      "JourneyTime \n",
      "         20 \n",
      "Keep  1494 of 2206 observations"
     ]
    },
    {
     "output_type": "stream",
     "name": "stderr",
     "text": [
      "Imputing PRS_orig_vars"
     ]
    }
   ],
   "source": [
    "source(\"R/data_prep.R\")\n"
   ],
   "id": "280b6e4e-bc64-4424-8ca7-dc461a7d6433"
  },
  {
   "cell_type": "markdown",
   "metadata": {},
   "source": [
    "## Setup"
   ],
   "id": "19ecaa2e-8dd7-4efc-b1f8-07fe7094915e"
  },
  {
   "cell_type": "code",
   "execution_count": null,
   "metadata": {},
   "outputs": [],
   "source": [
    "library(mlr3verse, quietly = TRUE)\n",
    "\n",
    "mse <- msrs(c(\"regr.mse\"))\n",
    "\n",
    "if (!interactive())\n",
    "  lgr::get_logger(\"mlr3\")$set_threshold(\"warn\")\n",
    "\n",
    "get_benchi_table <- function(tasks, nfolds = 5) {\n",
    "  set.seed(123)\n",
    "  learners <- lrns(c(\"regr.featureless\", \"regr.lm\", \"regr.xgboost\", \"regr.ranger\"))\n",
    "  learners$regr.xgboost$param_set$set_values(\n",
    "    eta = 0.03, \n",
    "    nrounds = 300, \n",
    "    max_depth = 2\n",
    "  )\n",
    "\n",
    "  benchi <- xfun::cache_rds({\n",
    "    benchmark(benchmark_grid(\n",
    "      tasks, \n",
    "      learners, \n",
    "      rsmp(\"cv\", folds = nfolds)\n",
    "    ))\n",
    "  }, \n",
    "  file = \"benchmark.rds\", \n",
    "  dir = \"cache/\",\n",
    "  hash = list(tasks, nfolds)\n",
    "  )\n",
    "  \n",
    "  res <- tidyr::pivot_wider(benchi$aggregate(mse), \n",
    "    id_cols = task_id,\n",
    "    names_from = learner_id,\n",
    "    values_from = regr.mse\n",
    "  ) |> as.data.frame()\n",
    "  \n",
    "  rownames(res) <- res$task_id\n",
    "  res <- res[, -1]\n",
    "  colnames(res) <- gsub(\"regr.\", \"\", colnames(res))\n",
    "  stopifnot(any(colnames(res) == \"featureless\"))\n",
    "  res <- 1 - res / res$featureless\n",
    "  res[, -1, drop = FALSE] |> round(3)\n",
    "}\n"
   ],
   "id": "1a4cd246-f3bd-45bd-a233-d51390db91e2"
  },
  {
   "cell_type": "markdown",
   "metadata": {},
   "source": [
    "Testing prediction quality of GIS_vars -\\> Mediators -\\> PRS_vars using\n",
    "\n",
    "-   Linear models\n",
    "-   Random forests (default parameters)\n",
    "-   XGBoost (with parameter tuning)\n",
    "-   FASSO (not shown since inferior)\n",
    "\n",
    "**GIS Variables:**"
   ],
   "id": "c124fc39-51e0-4ba3-a0dc-354f13d20f5e"
  },
  {
   "cell_type": "code",
   "execution_count": null,
   "metadata": {},
   "outputs": [
    {
     "output_type": "stream",
     "name": "stdout",
     "text": [
      " [1] \"LCARTIF_sqrt\"   \"LCFOREST_sqrt\"  \"HETER\"          \"OVDIST_sqrt\"   \n",
      " [5] \"VIS5K_sqrt\"     \"RL_NDVI\"        \"RL_NOISE\"       \"DISTKM_sqrt\"   \n",
      " [9] \"JNYTIME_sqrt\"   \"STRIMP123_sqrt\" \"STRIMP999_sqrt\""
     ]
    }
   ],
   "source": [
    "GIS_vars\n"
   ],
   "id": "b0c98940-4220-4ebe-8cc8-c549418601dc"
  },
  {
   "cell_type": "markdown",
   "metadata": {},
   "source": [
    "**Mediators:**"
   ],
   "id": "f2f5f01b-f188-4158-9c9e-1f0744722a82"
  },
  {
   "cell_type": "code",
   "execution_count": null,
   "metadata": {},
   "outputs": [
    {
     "output_type": "stream",
     "name": "stdout",
     "text": [
      "[1] \"FEELNAT\"  \"LNOISE\"   \"LOC_SENS\" \"LOC_SOUN\" \"LOC_SCEN\" \"LOC_VISE\" \"LOC_VEGE\"\n",
      "[8] \"LOC_FAUN\""
     ]
    }
   ],
   "source": [
    "Mediator_vars\n"
   ],
   "id": "42ae9620-03f8-4954-8af2-f455cac5ba48"
  },
  {
   "cell_type": "markdown",
   "metadata": {},
   "source": [
    "### PRS ~ GIS"
   ],
   "id": "c0103a43-bbbc-4f7b-b7fe-d9ddf7961fe0"
  },
  {
   "cell_type": "code",
   "execution_count": null,
   "metadata": {},
   "outputs": [
    {
     "output_type": "stream",
     "name": "stdout",
     "text": [
      "         lm xgboost ranger\n",
      "MEAN -0.001  -0.006 -0.035\n",
      "FA   -0.002   0.012  0.002\n",
      "BA   -0.006  -0.010 -0.022\n",
      "EC    0.003  -0.027 -0.037\n",
      "ES    0.047   0.041  0.025"
     ]
    }
   ],
   "source": [
    "tasks_GIS <- lapply(PRS_vars, \\(y) \n",
    "  as_task_regr(\n",
    "    subset(Dmlr, select = c(y, GIS_vars)),\n",
    "    target = y,\n",
    "    id = y\n",
    "  ))\n",
    "get_benchi_table(tasks_GIS) \n"
   ],
   "id": "58381376-4a2c-4b45-9f0b-1ae54fab6f38"
  },
  {
   "cell_type": "markdown",
   "metadata": {},
   "source": [
    "GIS variables alone show poor predictive performance.\n",
    "\n",
    "### PRS ~ GIS + Mediators"
   ],
   "id": "5468a783-ebf6-49dc-b27a-c0345f484d38"
  },
  {
   "cell_type": "code",
   "execution_count": null,
   "metadata": {},
   "outputs": [
    {
     "output_type": "stream",
     "name": "stdout",
     "text": [
      "        lm xgboost ranger\n",
      "MEAN 0.227   0.243  0.229\n",
      "FA   0.235   0.259  0.251\n",
      "BA   0.123   0.136  0.134\n",
      "EC   0.045   0.017  0.023\n",
      "ES   0.153   0.169  0.158"
     ]
    }
   ],
   "source": [
    "tasks_GIS_MED <- lapply(PRS_vars, \\(y) \n",
    "  as_task_regr(\n",
    "    subset(Dmlr, select = c(y, Mediator_vars, GIS_vars)),\n",
    "    target = y,\n",
    "    id = y\n",
    "  ))\n",
    "get_benchi_table(tasks_GIS_MED) \n"
   ],
   "id": "706126a5-ca7e-4680-bde0-d962b2e9be7f"
  },
  {
   "cell_type": "markdown",
   "metadata": {},
   "source": [
    "### PRS ~ Mediators"
   ],
   "id": "4292a334-93f2-4af5-92bb-2ac164a3027a"
  },
  {
   "cell_type": "code",
   "execution_count": null,
   "metadata": {},
   "outputs": [
    {
     "output_type": "stream",
     "name": "stdout",
     "text": [
      "        lm xgboost ranger\n",
      "MEAN 0.226   0.240  0.197\n",
      "FA   0.226   0.253  0.228\n",
      "BA   0.135   0.150  0.109\n",
      "EC   0.036   0.023 -0.018\n",
      "ES   0.133   0.138  0.080"
     ]
    }
   ],
   "source": [
    "tasks_MED <- lapply(PRS_vars, \\(y) \n",
    "  as_task_regr(\n",
    "    subset(Dmlr, select = c(y, Mediator_vars)),\n",
    "    target = y,\n",
    "    id = y\n",
    "  ))\n",
    "get_benchi_table(tasks_MED) \n"
   ],
   "id": "1786aeca-9101-4bb8-bd2b-c5eb845501b6"
  },
  {
   "cell_type": "markdown",
   "metadata": {},
   "source": [
    "### Mediators ~ GIS"
   ],
   "id": "a770bd2b-15b8-4c39-a7a2-f95fda97ab5c"
  },
  {
   "cell_type": "code",
   "execution_count": null,
   "metadata": {},
   "outputs": [
    {
     "output_type": "stream",
     "name": "stdout",
     "text": [
      "            lm xgboost ranger\n",
      "FEELNAT  0.127   0.138  0.114\n",
      "LNOISE   0.096   0.070  0.080\n",
      "LOC_SENS 0.020  -0.004 -0.026\n",
      "LOC_SOUN 0.041   0.007 -0.002\n",
      "LOC_SCEN 0.039   0.051  0.022\n",
      "LOC_VISE 0.008  -0.029 -0.043\n",
      "LOC_VEGE 0.052   0.031  0.035\n",
      "LOC_FAUN 0.057   0.063  0.047"
     ]
    }
   ],
   "source": [
    "tasks_MED_by_GIS <- lapply(Mediator_vars, \\(y) \n",
    "  as_task_regr(\n",
    "    subset(Dmlr, select = c(y, GIS_vars)),\n",
    "    target = y,\n",
    "    id = y\n",
    "  ))\n",
    "get_benchi_table(tasks_MED_by_GIS)\n"
   ],
   "id": "a729bf51-a1fa-47e0-92ea-4ccc803131de"
  },
  {
   "cell_type": "markdown",
   "metadata": {},
   "source": [
    "### Legacy Code"
   ],
   "id": "ed55cecc-0615-4454-b6ef-58033dd48964"
  },
  {
   "cell_type": "code",
   "execution_count": null,
   "metadata": {},
   "outputs": [],
   "source": [
    "\n",
    "# Get parameter estimates for XGBoost\n",
    "t <- as_task_regr(\n",
    "  subset(Dmlr, select = c(\"FEELNAT\", GIS_vars)),\n",
    "  target = \"FEELNAT\"\n",
    ")\n",
    "\n",
    "l <- lrn(\"regr.xgboost\",\n",
    "  nrounds = 500  # More iterations due to lower learning rate\n",
    ")\n",
    "\n",
    "# Create search space\n",
    "ps <- ps(\n",
    "  max_depth = p_int(2, 3),\n",
    "  eta = p_dbl(0.001, 0.3, tags = \"logscale\")\n",
    ")\n",
    "\n",
    "# Setup tuning\n",
    "instance <- ti(\n",
    "  task = t,\n",
    "  learner = l,\n",
    "  resampling = rsmp(\"cv\", folds = 3),\n",
    "  measure = msr(\"regr.mse\"),\n",
    "  terminator = trm(\"none\"),\n",
    "  search_space = ps\n",
    ")\n",
    "\n",
    "# Grid search\n",
    "tuner <- mlr3tuning::tnr(\"grid_search\")\n",
    "tuner$optimize(instance)\n",
    "instance$result\n"
   ],
   "id": "7bc00159-cb01-4957-aa36-7095d05d61a4"
  },
  {
   "cell_type": "code",
   "execution_count": null,
   "metadata": {},
   "outputs": [],
   "source": [
    "\n",
    "library(randomForest)\n",
    "\n",
    "fit <- lm(as.formula(paste0(\n",
    "    \"cbind(\", paste(PRS_vars, collapse = \", \"), \")\",\n",
    "    \" ~ \",\n",
    "    paste(Mediator_vars, collapse = \" + \")\n",
    "  )), \n",
    "  D)\n",
    "coef(fit) |> round(2)\n",
    "\n",
    "rsq.lm <- sapply(summary(fit), \\(x) x$r.sq)\n",
    "rsq.rf <- sapply(PRS_vars, \\(x) {\n",
    "  rf <- randomForest(as.formula(paste0(\n",
    "    x, \" ~ \", paste(Mediator_vars, collapse = \" + \")\n",
    "  )), \n",
    "  D, na.action = na.omit\n",
    "  ) \n",
    "  rf$rsq[500]\n",
    "})\n",
    "\n",
    "cbind(lm = rsq.lm, rf = rsq.rf) |> round(2)\n"
   ],
   "id": "02eeb3ef-5967-4f12-9e47-9b1adec05037"
  },
  {
   "cell_type": "code",
   "execution_count": null,
   "metadata": {},
   "outputs": [],
   "source": [
    "\n",
    "autoplot(mytsk1, type = \"pairs\")\n",
    "mytsk1 <- as_task_regr(\n",
    "  subset(Dmlr, select = c(\"FA\", Mediator_vars, GIS_vars)),\n",
    "  feature = c(Mediator_vars, GIS_vars),\n",
    "  target = \"FA\",\n",
    "  id = \"bla\"\n",
    ")\n",
    "\n",
    "lrn_xgb <- lrn(\"regr.xgboost\")\n",
    "lrn_avg <- lrn(\"regr.featureless\")\n",
    "splits <- partition(mytsk1)\n",
    "lrn_xgb$train(mytsk1, splits$train)$predict(mytsk1, splits$test)$score(mse)\n",
    "lrn_avg$train(mytsk1, splits$train)$predict(mytsk1, splits$test)$score(mse)\n",
    "rr <- resample(mytsk1, lrn_xgb, cv3)\n",
    "rr$aggregate(mse)\n",
    "\n",
    "learners <- lrns(c(\"regr.featureless\", \"regr.lm\", \"regr.xgboost\", \"regr.ranger\"))\n",
    "learners$regr.xgboost$param_set$set_values(eta = 0.03, nrounds = 300, max_depth = 2)\n",
    "learners <- c(\"regr.featureless\", \"regr.lm\")\n"
   ],
   "id": "0e1f00f5-d275-468e-bf91-6248e9b58abd"
  }
 ],
 "nbformat": 4,
 "nbformat_minor": 5,
 "metadata": {}
}
