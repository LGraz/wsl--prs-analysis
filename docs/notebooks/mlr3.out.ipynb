{
 "cells": [
  {
   "cell_type": "markdown",
   "metadata": {},
   "source": [
    "# Prediction Analysis for WSL\n",
    "\n",
    "Lukas Graz  \n",
    "February 13, 2025"
   ],
   "id": "9a61ef50-57be-4506-b6cc-a2988009fd35"
  },
  {
   "cell_type": "code",
   "execution_count": null,
   "metadata": {},
   "outputs": [
    {
     "output_type": "stream",
     "name": "stdout",
     "text": [
      "Nr of matches per filtercriteria (not disjoint)\n",
      "  Headphone  PRS_all_NA    Distance Activity_NA    Duration  HMNoise_NA \n",
      "        303         226         221         102          96          96 \n",
      "JourneyTime \n",
      "         20 \n",
      "Keep  1494 of 2206 observations"
     ]
    },
    {
     "output_type": "stream",
     "name": "stderr",
     "text": [
      "Impute PRS_orig_vars"
     ]
    },
    {
     "output_type": "stream",
     "name": "stderr",
     "text": [
      "TODO: remove pca ?"
     ]
    },
    {
     "output_type": "stream",
     "name": "stderr",
     "text": [
      "impute mediators & GIS_vars for mlr"
     ]
    }
   ],
   "source": [
    "source(\"R/data_prep.R\")\n"
   ],
   "id": "37bebec7-54de-4b08-8026-86c91294a8a6"
  },
  {
   "cell_type": "markdown",
   "metadata": {},
   "source": [
    "## Setup"
   ],
   "id": "d9b010cf-995e-45cf-a0d7-b642077a6766"
  },
  {
   "cell_type": "code",
   "execution_count": null,
   "metadata": {},
   "outputs": [
    {
     "output_type": "stream",
     "name": "stderr",
     "text": [
      "Registered S3 method overwritten by 'GGally':\n",
      "  method from   \n",
      "  +.gg   ggplot2"
     ]
    }
   ],
   "source": [
    "library(mlr3verse, quietly = TRUE)\n",
    "library(GGally, quietly = TRUE, warn.conflicts = FALSE)\n"
   ],
   "id": "a3eacac0-e20c-48d1-baa9-b9e2a6494e7c"
  },
  {
   "cell_type": "markdown",
   "metadata": {},
   "source": [
    "Testing prediction quality of GIS_vars -\\> Mediators -\\> PRS_vars using\n",
    "\n",
    "-   linear models,\n",
    "-   random forests (default parameters),\n",
    "-   xgboost (+parameter tuning)\n",
    "-   lasso (not shown since inferior)\n",
    "\n",
    "**GIS-Variables:**"
   ],
   "id": "a280c813-0685-422c-9865-d57edfab2880"
  },
  {
   "cell_type": "code",
   "execution_count": null,
   "metadata": {},
   "outputs": [
    {
     "output_type": "stream",
     "name": "stdout",
     "text": [
      " [1] \"LCARTIF_sqrt\"   \"LCFOREST_sqrt\"  \"HETER\"          \"OVDIST_sqrt\"   \n",
      " [5] \"VIS5K_sqrt\"     \"RL_NDVI\"        \"RL_NOISE\"       \"DISTKM_sqrt\"   \n",
      " [9] \"JNYTIME_sqrt\"   \"STRIMP123_sqrt\" \"STRIMP999_sqrt\""
     ]
    }
   ],
   "source": [
    "GIS_vars\n"
   ],
   "id": "59f293f3-396e-48d7-9cb9-1af618a6d25b"
  },
  {
   "cell_type": "markdown",
   "metadata": {},
   "source": [
    "**Mediators:**"
   ],
   "id": "cd96c020-6bdd-4afc-9cb3-22fc47b96aa2"
  },
  {
   "cell_type": "code",
   "execution_count": null,
   "metadata": {},
   "outputs": [
    {
     "output_type": "stream",
     "name": "stdout",
     "text": [
      "[1] \"FEELNAT\"  \"LNOISE\"   \"LOC_SENS\" \"LOC_SOUN\" \"LOC_SCEN\" \"LOC_VISE\" \"LOC_VEGE\"\n",
      "[8] \"LOC_FAUN\""
     ]
    }
   ],
   "source": [
    "Mediator_vars\n"
   ],
   "id": "e2837971-20a3-40be-9f68-9c6c1ce7fcc6"
  },
  {
   "cell_type": "markdown",
   "metadata": {},
   "source": [
    "### PRS ~ GIS"
   ],
   "id": "1ae90f93-9703-4d00-bf32-709bcfb998ad"
  },
  {
   "cell_type": "code",
   "execution_count": null,
   "metadata": {},
   "outputs": [
    {
     "output_type": "stream",
     "name": "stdout",
     "text": [
      "       lm xgboost ranger\n",
      "LA   0.00    0.02   0.00\n",
      "BA   0.00   -0.02  -0.03\n",
      "EC  -0.01   -0.05  -0.05\n",
      "ES   0.05    0.04   0.03\n",
      "PC1 -0.01   -0.01  -0.03\n",
      "PC2  0.04    0.01   0.00\n",
      "PC3  0.03    0.04   0.02\n",
      "PC4 -0.01   -0.01  -0.01"
     ]
    }
   ],
   "source": [
    "tasks_GIS <- lapply(PRS_vars, \\(y) \n",
    "  as_task_regr(\n",
    "    subset(Dmlr, select = c(y,                GIS_vars)),\n",
    "    target = y,\n",
    "    id = y\n",
    "  ))\n",
    "get_benchi_table(tasks_GIS) \n"
   ],
   "id": "00ff3132-a89d-4248-9328-3e3516303cd6"
  },
  {
   "cell_type": "markdown",
   "metadata": {},
   "source": [
    "GIS variables alone bad\n",
    "\n",
    "### PRS ~ GIS + Mediators"
   ],
   "id": "0c3f6f4d-5696-4432-847e-df1d5d00b199"
  },
  {
   "cell_type": "code",
   "execution_count": null,
   "metadata": {},
   "outputs": [
    {
     "output_type": "stream",
     "name": "stdout",
     "text": [
      "      lm xgboost ranger\n",
      "LA  0.22    0.25   0.24\n",
      "BA  0.13    0.14   0.12\n",
      "EC  0.02    0.00   0.01\n",
      "ES  0.15    0.16   0.15\n",
      "PC1 0.22    0.23   0.23\n",
      "PC2 0.07    0.04   0.06\n",
      "PC3 0.02    0.04   0.04\n",
      "PC4 0.01    0.01   0.01"
     ]
    }
   ],
   "source": [
    "tasks_GIS_MED <- lapply(PRS_vars, \\(y) \n",
    "  as_task_regr(\n",
    "    subset(Dmlr, select = c(y, Mediator_vars, GIS_vars)),\n",
    "    target = y,\n",
    "    id = y\n",
    "  ))\n",
    "get_benchi_table(tasks_GIS_MED) \n"
   ],
   "id": "5a7a01a1-ce61-4f7b-b73c-527a9bdb5d08"
  },
  {
   "cell_type": "markdown",
   "metadata": {},
   "source": [
    "### PRS ~ Mediators"
   ],
   "id": "9ea1edaa-12fc-48f8-a7e7-2e9d5fb3ea24"
  },
  {
   "cell_type": "code",
   "execution_count": null,
   "metadata": {},
   "outputs": [
    {
     "output_type": "stream",
     "name": "stdout",
     "text": [
      "      lm xgboost ranger\n",
      "LA  0.21    0.24   0.20\n",
      "BA  0.14    0.13   0.09\n",
      "EC  0.03    0.02  -0.03\n",
      "ES  0.13    0.11   0.06\n",
      "PC1 0.22    0.23   0.20\n",
      "PC2 0.06    0.05   0.02\n",
      "PC3 0.00   -0.02  -0.06\n",
      "PC4 0.00   -0.01  -0.03"
     ]
    }
   ],
   "source": [
    "tasks_MED <- lapply(PRS_vars, \\(y) \n",
    "  as_task_regr(\n",
    "    subset(Dmlr, select = c(y, Mediator_vars)),\n",
    "    target = y,\n",
    "    id = y\n",
    "  ))\n",
    "get_benchi_table(tasks_MED) \n"
   ],
   "id": "aee1cfc7-48cd-4ac9-98f2-c16d1f55ddf4"
  },
  {
   "cell_type": "markdown",
   "metadata": {},
   "source": [
    "### MED ~ GIS"
   ],
   "id": "43066671-c66b-467b-962f-9cabf106f514"
  },
  {
   "cell_type": "code",
   "execution_count": null,
   "metadata": {},
   "outputs": [
    {
     "output_type": "stream",
     "name": "stdout",
     "text": [
      "           lm xgboost ranger\n",
      "FEELNAT  0.13    0.12   0.09\n",
      "LNOISE   0.09    0.07   0.07\n",
      "LOC_SENS 0.01   -0.01  -0.02\n",
      "LOC_SOUN 0.05    0.00   0.00\n",
      "LOC_SCEN 0.04    0.04   0.02\n",
      "LOC_VISE 0.00   -0.03  -0.04\n",
      "LOC_VEGE 0.06    0.05   0.04\n",
      "LOC_FAUN 0.06    0.07   0.04"
     ]
    }
   ],
   "source": [
    "tasks_MED_by_GIS <- lapply(Mediator_vars, \\(y) \n",
    "  as_task_regr(\n",
    "    subset(Dmlr, select = c(y, GIS_vars)),\n",
    "    target = y,\n",
    "    id = y\n",
    "  ))\n",
    "get_benchi_table(tasks_MED_by_GIS)\n"
   ],
   "id": "2e8db924-f407-46ac-a025-9576abc36825"
  },
  {
   "cell_type": "markdown",
   "metadata": {},
   "source": [
    "### Legacy code"
   ],
   "id": "a3a4dac3-87c8-4372-8cd6-7afb1b9f8392"
  },
  {
   "cell_type": "code",
   "execution_count": null,
   "metadata": {},
   "outputs": [],
   "source": [
    "\n",
    "## get some idea about good parameters for xgboost\n",
    "t <- as_task_regr(subset(Dmlr, select = c(\"FEELNAT\", GIS_vars)),\n",
    "    target = \"FEELNAT\")\n",
    "l <- lrn_xgb <- lrn(\"regr.xgboost\",\n",
    "  nrounds = 500         # more iterations due to lower eta\n",
    ")\n",
    "# Create search space\n",
    "ps <- ps(\n",
    " max_depth = p_int(2,3),\n",
    " eta = p_dbl(0.001, 0.3, tags = \"logscale\")\n",
    ")\n",
    "# Setup tuning\n",
    "instance <- ti(\n",
    " task = t,\n",
    " learner = l,\n",
    " resampling = rsmp(\"cv\", folds = 3),\n",
    " measure = msr(\"regr.mse\"),\n",
    " terminator = trm(\"none\"),\n",
    " search_space = ps\n",
    ")\n",
    "# Grid search\n",
    "tuner <- mlr3tuning::tnr(\"grid_search\")\n",
    "tuner$optimize(instance)\n",
    "instance$result\n"
   ],
   "id": "d6606e29-6b78-4801-a351-e357b6b79000"
  },
  {
   "cell_type": "code",
   "execution_count": null,
   "metadata": {},
   "outputs": [],
   "source": [
    "\n",
    "library(randomForest)\n",
    "\n",
    "fit <- lm(as.formula(paste0(\n",
    "    \"cbind(\",paste(PRS_vars, collapse=\", \"),\")\",\n",
    "    \" ~ \",\n",
    "    paste(Mediator_vars, collapse=\" + \")\n",
    "    )), \n",
    "  D)\n",
    "coef(fit) |> round(2)\n",
    "\n",
    "rsq.lm <- sapply(summary(fit), \\(x) x$r.sq)\n",
    "rsq.rf <- sapply(PRS_vars, \\(x) {\n",
    "  rf <- randomForest(as.formula(paste0(\n",
    "    x, \" ~ \", paste(Mediator_vars, collapse=\" + \")\n",
    "  )), \n",
    "  D, na.action=na.omit\n",
    "  ) \n",
    "  rf$rsq[500]\n",
    "})\n",
    "\n",
    "cbind(lm = rsq.lm, rf = rsq.rf) |> round(2)\n"
   ],
   "id": "dbd03b80-b540-49c7-a83d-cd0a82d1456b"
  },
  {
   "cell_type": "code",
   "execution_count": null,
   "metadata": {},
   "outputs": [],
   "source": [
    "\n",
    "autoplot(mytsk1, type=\"pairs\")\n",
    "mytsk1 <- as_task_regr(\n",
    "    subset(Dmlr, select = c(\"LA\", Mediator_vars, GIS_vars)),\n",
    "    feature = c(Mediator_vars, GIS_vars),\n",
    "    target = \"LA\",\n",
    "    id = \"bla\"\n",
    "  )\n",
    "lrn_xgb <- lrn(\"regr.xgboost\")\n",
    "lrn_avg <- lrn(\"regr.featureless\")\n",
    "splits = partition(mytsk1)\n",
    "lrn_xgb$train(mytsk1, splits$train)$predict(mytsk1, splits$test)$score(mse)\n",
    "lrn_avg$train(mytsk1, splits$train)$predict(mytsk1, splits$test)$score(mse)\n",
    "rr = resample(mytsk1, lrn_xgb, cv3)\n",
    "rr$aggregate(mse)\n",
    "\n",
    "learners  <- lrns(c(\"regr.featureless\", \"regr.lm\", \"regr.xgboost\", \"regr.ranger\"))\n",
    "learners$regr.xgboost$param_set$set_values(eta = 0.03, nrounds = 300, max_depth = 2)\n",
    "learners  <- c(\"regr.featureless\", \"regr.lm\")\n"
   ],
   "id": "46da0b73-dc63-46c2-a359-a5a978936782"
  }
 ],
 "nbformat": 4,
 "nbformat_minor": 5,
 "metadata": {}
}
